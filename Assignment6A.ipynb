{
  "nbformat": 4,
  "nbformat_minor": 0,
  "metadata": {
    "colab": {
      "name": "Assignment6A.ipynb",
      "provenance": [],
      "include_colab_link": true
    },
    "kernelspec": {
      "name": "python3",
      "display_name": "Python 3"
    },
    "accelerator": "GPU"
  },
  "cells": [
    {
      "cell_type": "markdown",
      "metadata": {
        "id": "view-in-github",
        "colab_type": "text"
      },
      "source": [
        "<a href=\"https://colab.research.google.com/github/sarvan0506/AI/blob/Dev/Assignment6A.ipynb\" target=\"_parent\"><img src=\"https://colab.research.google.com/assets/colab-badge.svg\" alt=\"Open In Colab\"/></a>"
      ]
    },
    {
      "cell_type": "markdown",
      "metadata": {
        "id": "HEdmT_sUA-Fn",
        "colab_type": "text"
      },
      "source": [
        "# Designing a Deep Neural Network with best practices\n",
        "\n",
        "### In this we are going to take a random network and redesign the same to a better network in-terms of accuracy and efficiency"
      ]
    },
    {
      "cell_type": "code",
      "metadata": {
        "id": "dv4ZJzkLPhgw",
        "colab_type": "code",
        "colab": {
          "base_uri": "https://localhost:8080/",
          "height": 80
        },
        "outputId": "1c43df51-7777-4980-d2dc-480ee6033079"
      },
      "source": [
        "from keras import backend as K\n",
        "import time\n",
        "import matplotlib.pyplot as plt\n",
        "import numpy as np\n",
        "% matplotlib inline\n",
        "np.random.seed(2017) \n",
        "from keras import regularizers\n",
        "from keras.models import Sequential\n",
        "from keras.layers.convolutional import Convolution2D, MaxPooling2D, AveragePooling2D\n",
        "from keras.layers import Activation, Flatten, Dense, Dropout\n",
        "from keras.layers.normalization import BatchNormalization\n",
        "from keras.utils import np_utils\n",
        "\n",
        "from keras.optimizers import Adam, SGD\n",
        "from keras.preprocessing.image import ImageDataGenerator"
      ],
      "execution_count": 2,
      "outputs": [
        {
          "output_type": "stream",
          "text": [
            "Using TensorFlow backend.\n"
          ],
          "name": "stderr"
        },
        {
          "output_type": "display_data",
          "data": {
            "text/html": [
              "<p style=\"color: red;\">\n",
              "The default version of TensorFlow in Colab will soon switch to TensorFlow 2.x.<br>\n",
              "We recommend you <a href=\"https://www.tensorflow.org/guide/migrate\" target=\"_blank\">upgrade</a> now \n",
              "or ensure your notebook will continue to use TensorFlow 1.x via the <code>%tensorflow_version 1.x</code> magic:\n",
              "<a href=\"https://colab.research.google.com/notebooks/tensorflow_version.ipynb\" target=\"_blank\">more info</a>.</p>\n"
            ],
            "text/plain": [
              "<IPython.core.display.HTML object>"
            ]
          },
          "metadata": {
            "tags": []
          }
        }
      ]
    },
    {
      "cell_type": "code",
      "metadata": {
        "id": "QWYKBxAGPlt7",
        "colab_type": "code",
        "colab": {
          "base_uri": "https://localhost:8080/",
          "height": 51
        },
        "outputId": "ced36303-6b0d-4d26-aedf-1380627d6cbe"
      },
      "source": [
        "from keras.datasets import cifar10\n",
        "(train_features, train_labels), (test_features, test_labels) = cifar10.load_data()\n",
        "num_train, img_channels, img_rows, img_cols =  train_features.shape\n",
        "num_test, _, _, _ =  test_features.shape\n",
        "num_classes = len(np.unique(train_labels))"
      ],
      "execution_count": 3,
      "outputs": [
        {
          "output_type": "stream",
          "text": [
            "Downloading data from https://www.cs.toronto.edu/~kriz/cifar-10-python.tar.gz\n",
            "170500096/170498071 [==============================] - 2s 0us/step\n"
          ],
          "name": "stdout"
        }
      ]
    },
    {
      "cell_type": "code",
      "metadata": {
        "id": "kn6MZpOoPnfh",
        "colab_type": "code",
        "colab": {
          "base_uri": "https://localhost:8080/",
          "height": 213
        },
        "outputId": "5997f3cc-b279-4c5c-944c-cd18ce399071"
      },
      "source": [
        "class_names = ['airplane','automobile','bird','cat','deer',\n",
        "               'dog','frog','horse','ship','truck']\n",
        "fig = plt.figure(figsize=(8,3))\n",
        "for i in range(num_classes):\n",
        "    ax = fig.add_subplot(2, 5, 1 + i, xticks=[], yticks=[])\n",
        "    idx = np.where(train_labels[:]==i)[0]\n",
        "    features_idx = train_features[idx,::]\n",
        "    img_num = np.random.randint(features_idx.shape[0])\n",
        "    im = features_idx[img_num]\n",
        "    ax.set_title(class_names[i])\n",
        "    plt.imshow(im)\n",
        "plt.show()"
      ],
      "execution_count": 4,
      "outputs": [
        {
          "output_type": "display_data",
          "data": {
            "image/png": "[encoded data removed]",
            "text/plain": [
              "<Figure size 576x216 with 10 Axes>"
            ]
          },
          "metadata": {
            "tags": []
          }
        }
      ]
    },
    {
      "cell_type": "code",
      "metadata": {
        "id": "jCCUXjlfPn57",
        "colab_type": "code",
        "colab": {}
      },
      "source": [
        "def plot_model_history(model_history):\n",
        "    fig, axs = plt.subplots(1,2,figsize=(15,5))\n",
        "    # summarize history for accuracy\n",
        "    axs[0].plot(range(1,len(model_history.history['acc'])+1),model_history.history['acc'])\n",
        "    axs[0].plot(range(1,len(model_history.history['val_acc'])+1),model_history.history['val_acc'])\n",
        "    axs[0].set_title('Model Accuracy')\n",
        "    axs[0].set_ylabel('Accuracy')\n",
        "    axs[0].set_xlabel('Epoch')\n",
        "    axs[0].set_xticks(np.arange(1,len(model_history.history['acc'])+1),len(model_history.history['acc'])/10)\n",
        "    axs[0].legend(['train', 'val'], loc='best')\n",
        "    # summarize history for loss\n",
        "    axs[1].plot(range(1,len(model_history.history['loss'])+1),model_history.history['loss'])\n",
        "    axs[1].plot(range(1,len(model_history.history['val_loss'])+1),model_history.history['val_loss'])\n",
        "    axs[1].set_title('Model Loss')\n",
        "    axs[1].set_ylabel('Loss')\n",
        "    axs[1].set_xlabel('Epoch')\n",
        "    axs[1].set_xticks(np.arange(1,len(model_history.history['loss'])+1),len(model_history.history['loss'])/10)\n",
        "    axs[1].legend(['train', 'val'], loc='best')\n",
        "    plt.show()"
      ],
      "execution_count": 0,
      "outputs": []
    },
    {
      "cell_type": "code",
      "metadata": {
        "id": "tHaUNnedPq5G",
        "colab_type": "code",
        "colab": {}
      },
      "source": [
        "def accuracy(test_x, test_y, model):\n",
        "    result = model.predict(test_x)\n",
        "    predicted_class = np.argmax(result, axis=1)\n",
        "    true_class = np.argmax(test_y, axis=1)\n",
        "    num_correct = np.sum(predicted_class == true_class) \n",
        "    accuracy = float(num_correct)/result.shape[0]\n",
        "    return (accuracy * 100)"
      ],
      "execution_count": 0,
      "outputs": []
    },
    {
      "cell_type": "code",
      "metadata": {
        "id": "QKbZLP6RPtJm",
        "colab_type": "code",
        "colab": {}
      },
      "source": [
        "train_features = train_features.astype('float32')/255\n",
        "test_features = test_features.astype('float32')/255\n",
        "# convert class labels to binary class labels\n",
        "train_labels = np_utils.to_categorical(train_labels, num_classes)\n",
        "test_labels = np_utils.to_categorical(test_labels, num_classes)"
      ],
      "execution_count": 0,
      "outputs": []
    },
    {
      "cell_type": "code",
      "metadata": {
        "id": "hUs3JpjBPuyX",
        "colab_type": "code",
        "colab": {
          "base_uri": "https://localhost:8080/",
          "height": 530
        },
        "outputId": "5e34a95e-8d78-4c50-9cec-6267dc717fce"
      },
      "source": [
        "# Define the model\n",
        "model = Sequential()\n",
        "model.add(Convolution2D(48, 3, 3, border_mode='same', input_shape=(32, 32, 3)))\n",
        "model.add(Activation('relu'))\n",
        "model.add(Convolution2D(48, 3, 3))\n",
        "model.add(Activation('relu'))\n",
        "model.add(MaxPooling2D(pool_size=(2, 2)))\n",
        "model.add(Dropout(0.25))\n",
        "model.add(Convolution2D(96, 3, 3, border_mode='same'))\n",
        "model.add(Activation('relu'))\n",
        "model.add(Convolution2D(96, 3, 3))\n",
        "model.add(Activation('relu'))\n",
        "model.add(MaxPooling2D(pool_size=(2, 2)))\n",
        "model.add(Dropout(0.25))\n",
        "model.add(Convolution2D(192, 3, 3, border_mode='same'))\n",
        "model.add(Activation('relu'))\n",
        "model.add(Convolution2D(192, 3, 3))\n",
        "model.add(Activation('relu'))\n",
        "model.add(MaxPooling2D(pool_size=(2, 2)))\n",
        "model.add(Dropout(0.25))\n",
        "model.add(Flatten())\n",
        "model.add(Dense(512))\n",
        "model.add(Activation('relu'))\n",
        "model.add(Dropout(0.5))\n",
        "model.add(Dense(256))\n",
        "model.add(Activation('relu'))\n",
        "model.add(Dropout(0.5))\n",
        "model.add(Dense(num_classes, activation='softmax'))\n",
        "# Compile the model\n",
        "model.compile(optimizer='adam', loss='categorical_crossentropy', metrics=['accuracy'])\n"
      ],
      "execution_count": 8,
      "outputs": [
        {
          "output_type": "stream",
          "text": [
            "WARNING:tensorflow:From /usr/local/lib/python3.6/dist-packages/keras/backend/tensorflow_backend.py:66: The name tf.get_default_graph is deprecated. Please use tf.compat.v1.get_default_graph instead.\n",
            "\n",
            "WARNING:tensorflow:From /usr/local/lib/python3.6/dist-packages/keras/backend/tensorflow_backend.py:541: The name tf.placeholder is deprecated. Please use tf.compat.v1.placeholder instead.\n",
            "\n",
            "WARNING:tensorflow:From /usr/local/lib/python3.6/dist-packages/keras/backend/tensorflow_backend.py:4432: The name tf.random_uniform is deprecated. Please use tf.random.uniform instead.\n",
            "\n",
            "WARNING:tensorflow:From /usr/local/lib/python3.6/dist-packages/keras/backend/tensorflow_backend.py:4267: The name tf.nn.max_pool is deprecated. Please use tf.nn.max_pool2d instead.\n",
            "\n",
            "WARNING:tensorflow:From /usr/local/lib/python3.6/dist-packages/keras/backend/tensorflow_backend.py:148: The name tf.placeholder_with_default is deprecated. Please use tf.compat.v1.placeholder_with_default instead.\n",
            "\n",
            "WARNING:tensorflow:From /usr/local/lib/python3.6/dist-packages/keras/backend/tensorflow_backend.py:3733: calling dropout (from tensorflow.python.ops.nn_ops) with keep_prob is deprecated and will be removed in a future version.\n",
            "Instructions for updating:\n",
            "Please use `rate` instead of `keep_prob`. Rate should be set to `rate = 1 - keep_prob`.\n"
          ],
          "name": "stdout"
        },
        {
          "output_type": "stream",
          "text": [
            "/usr/local/lib/python3.6/dist-packages/ipykernel_launcher.py:2: UserWarning: Update your `Conv2D` call to the Keras 2 API: `Conv2D(48, (3, 3), input_shape=(32, 32, 3..., padding=\"same\")`\n",
            "  \n",
            "/usr/local/lib/python3.6/dist-packages/ipykernel_launcher.py:4: UserWarning: Update your `Conv2D` call to the Keras 2 API: `Conv2D(48, (3, 3))`\n",
            "  after removing the cwd from sys.path.\n",
            "/usr/local/lib/python3.6/dist-packages/ipykernel_launcher.py:8: UserWarning: Update your `Conv2D` call to the Keras 2 API: `Conv2D(96, (3, 3), padding=\"same\")`\n",
            "  \n",
            "/usr/local/lib/python3.6/dist-packages/ipykernel_launcher.py:10: UserWarning: Update your `Conv2D` call to the Keras 2 API: `Conv2D(96, (3, 3))`\n",
            "  # Remove the CWD from sys.path while we load stuff.\n",
            "/usr/local/lib/python3.6/dist-packages/ipykernel_launcher.py:14: UserWarning: Update your `Conv2D` call to the Keras 2 API: `Conv2D(192, (3, 3), padding=\"same\")`\n",
            "  \n",
            "/usr/local/lib/python3.6/dist-packages/ipykernel_launcher.py:16: UserWarning: Update your `Conv2D` call to the Keras 2 API: `Conv2D(192, (3, 3))`\n",
            "  app.launch_new_instance()\n"
          ],
          "name": "stderr"
        },
        {
          "output_type": "stream",
          "text": [
            "WARNING:tensorflow:From /usr/local/lib/python3.6/dist-packages/keras/optimizers.py:793: The name tf.train.Optimizer is deprecated. Please use tf.compat.v1.train.Optimizer instead.\n",
            "\n",
            "WARNING:tensorflow:From /usr/local/lib/python3.6/dist-packages/keras/backend/tensorflow_backend.py:3576: The name tf.log is deprecated. Please use tf.math.log instead.\n",
            "\n"
          ],
          "name": "stdout"
        }
      ]
    },
    {
      "cell_type": "code",
      "metadata": {
        "id": "VzZZGz4KPwuF",
        "colab_type": "code",
        "colab": {
          "base_uri": "https://localhost:8080/",
          "height": 1000
        },
        "outputId": "7675091d-47ad-470e-cfaa-f07a502a65df"
      },
      "source": [
        "model.summary()"
      ],
      "execution_count": 9,
      "outputs": [
        {
          "output_type": "stream",
          "text": [
            "Model: \"sequential_1\"\n",
            "_________________________________________________________________\n",
            "Layer (type)                 Output Shape              Param #   \n",
            "=================================================================\n",
            "conv2d_1 (Conv2D)            (None, 32, 32, 48)        1344      \n",
            "_________________________________________________________________\n",
            "activation_1 (Activation)    (None, 32, 32, 48)        0         \n",
            "_________________________________________________________________\n",
            "conv2d_2 (Conv2D)            (None, 30, 30, 48)        20784     \n",
            "_________________________________________________________________\n",
            "activation_2 (Activation)    (None, 30, 30, 48)        0         \n",
            "_________________________________________________________________\n",
            "max_pooling2d_1 (MaxPooling2 (None, 15, 15, 48)        0         \n",
            "_________________________________________________________________\n",
            "dropout_1 (Dropout)          (None, 15, 15, 48)        0         \n",
            "_________________________________________________________________\n",
            "conv2d_3 (Conv2D)            (None, 15, 15, 96)        41568     \n",
            "_________________________________________________________________\n",
            "activation_3 (Activation)    (None, 15, 15, 96)        0         \n",
            "_________________________________________________________________\n",
            "conv2d_4 (Conv2D)            (None, 13, 13, 96)        83040     \n",
            "_________________________________________________________________\n",
            "activation_4 (Activation)    (None, 13, 13, 96)        0         \n",
            "_________________________________________________________________\n",
            "max_pooling2d_2 (MaxPooling2 (None, 6, 6, 96)          0         \n",
            "_________________________________________________________________\n",
            "dropout_2 (Dropout)          (None, 6, 6, 96)          0         \n",
            "_________________________________________________________________\n",
            "conv2d_5 (Conv2D)            (None, 6, 6, 192)         166080    \n",
            "_________________________________________________________________\n",
            "activation_5 (Activation)    (None, 6, 6, 192)         0         \n",
            "_________________________________________________________________\n",
            "conv2d_6 (Conv2D)            (None, 4, 4, 192)         331968    \n",
            "_________________________________________________________________\n",
            "activation_6 (Activation)    (None, 4, 4, 192)         0         \n",
            "_________________________________________________________________\n",
            "max_pooling2d_3 (MaxPooling2 (None, 2, 2, 192)         0         \n",
            "_________________________________________________________________\n",
            "dropout_3 (Dropout)          (None, 2, 2, 192)         0         \n",
            "_________________________________________________________________\n",
            "flatten_1 (Flatten)          (None, 768)               0         \n",
            "_________________________________________________________________\n",
            "dense_1 (Dense)              (None, 512)               393728    \n",
            "_________________________________________________________________\n",
            "activation_7 (Activation)    (None, 512)               0         \n",
            "_________________________________________________________________\n",
            "dropout_4 (Dropout)          (None, 512)               0         \n",
            "_________________________________________________________________\n",
            "dense_2 (Dense)              (None, 256)               131328    \n",
            "_________________________________________________________________\n",
            "activation_8 (Activation)    (None, 256)               0         \n",
            "_________________________________________________________________\n",
            "dropout_5 (Dropout)          (None, 256)               0         \n",
            "_________________________________________________________________\n",
            "dense_3 (Dense)              (None, 10)                2570      \n",
            "=================================================================\n",
            "Total params: 1,172,410\n",
            "Trainable params: 1,172,410\n",
            "Non-trainable params: 0\n",
            "_________________________________________________________________\n"
          ],
          "name": "stdout"
        }
      ]
    },
    {
      "cell_type": "code",
      "metadata": {
        "id": "RFoIu6lBPzBy",
        "colab_type": "code",
        "colab": {
          "base_uri": "https://localhost:8080/",
          "height": 1000
        },
        "outputId": "91f5566f-b6c5-4c34-eb7d-e736cb19143a"
      },
      "source": [
        "datagen = ImageDataGenerator(zoom_range=0.0, \n",
        "                             horizontal_flip=False)\n",
        "\n",
        "\n",
        "# train the model\n",
        "start = time.time()\n",
        "# Train the model\n",
        "model_info = model.fit_generator(datagen.flow(train_features, train_labels, batch_size = 128),\n",
        "                                 samples_per_epoch = train_features.shape[0], nb_epoch = 100, \n",
        "                                 validation_data = (test_features, test_labels), verbose=1)\n",
        "end = time.time()\n",
        "print (\"Model took %0.2f seconds to train\"%(end - start))\n",
        "# plot model history\n",
        "plot_model_history(model_info)\n",
        "# compute test accuracy\n",
        "print (\"Accuracy on test data is: %0.2f\"%accuracy(test_features, test_labels, model))"
      ],
      "execution_count": 10,
      "outputs": [
        {
          "output_type": "stream",
          "text": [
            "WARNING:tensorflow:From /usr/local/lib/python3.6/dist-packages/tensorflow_core/python/ops/math_grad.py:1424: where (from tensorflow.python.ops.array_ops) is deprecated and will be removed in a future version.\n",
            "Instructions for updating:\n",
            "Use tf.where in 2.0, which has the same broadcast rule as np.where\n"
          ],
          "name": "stdout"
        },
        {
          "output_type": "stream",
          "text": [
            "/usr/local/lib/python3.6/dist-packages/ipykernel_launcher.py:10: UserWarning: The semantics of the Keras 2 argument `steps_per_epoch` is not the same as the Keras 1 argument `samples_per_epoch`. `steps_per_epoch` is the number of batches to draw from the generator at each epoch. Basically steps_per_epoch = samples_per_epoch/batch_size. Similarly `nb_val_samples`->`validation_steps` and `val_samples`->`steps` arguments have changed. Update your method calls accordingly.\n",
            "  # Remove the CWD from sys.path while we load stuff.\n",
            "/usr/local/lib/python3.6/dist-packages/ipykernel_launcher.py:10: UserWarning: Update your `fit_generator` call to the Keras 2 API: `fit_generator(<keras_pre..., validation_data=(array([[[..., verbose=1, steps_per_epoch=390, epochs=100)`\n",
            "  # Remove the CWD from sys.path while we load stuff.\n"
          ],
          "name": "stderr"
        },
        {
          "output_type": "stream",
          "text": [
            "WARNING:tensorflow:From /usr/local/lib/python3.6/dist-packages/keras/backend/tensorflow_backend.py:1033: The name tf.assign_add is deprecated. Please use tf.compat.v1.assign_add instead.\n",
            "\n",
            "WARNING:tensorflow:From /usr/local/lib/python3.6/dist-packages/keras/backend/tensorflow_backend.py:1020: The name tf.assign is deprecated. Please use tf.compat.v1.assign instead.\n",
            "\n",
            "WARNING:tensorflow:From /usr/local/lib/python3.6/dist-packages/keras/backend/tensorflow_backend.py:3005: The name tf.Session is deprecated. Please use tf.compat.v1.Session instead.\n",
            "\n",
            "Epoch 1/100\n",
            "WARNING:tensorflow:From /usr/local/lib/python3.6/dist-packages/keras/backend/tensorflow_backend.py:190: The name tf.get_default_session is deprecated. Please use tf.compat.v1.get_default_session instead.\n",
            "\n",
            "WARNING:tensorflow:From /usr/local/lib/python3.6/dist-packages/keras/backend/tensorflow_backend.py:197: The name tf.ConfigProto is deprecated. Please use tf.compat.v1.ConfigProto instead.\n",
            "\n",
            "WARNING:tensorflow:From /usr/local/lib/python3.6/dist-packages/keras/backend/tensorflow_backend.py:207: The name tf.global_variables is deprecated. Please use tf.compat.v1.global_variables instead.\n",
            "\n",
            "WARNING:tensorflow:From /usr/local/lib/python3.6/dist-packages/keras/backend/tensorflow_backend.py:216: The name tf.is_variable_initialized is deprecated. Please use tf.compat.v1.is_variable_initialized instead.\n",
            "\n",
            "WARNING:tensorflow:From /usr/local/lib/python3.6/dist-packages/keras/backend/tensorflow_backend.py:223: The name tf.variables_initializer is deprecated. Please use tf.compat.v1.variables_initializer instead.\n",
            "\n",
            "390/390 [==============================] - 29s 75ms/step - loss: 1.8935 - acc: 0.2701 - val_loss: 1.5149 - val_acc: 0.4144\n",
            "Epoch 2/100\n",
            "390/390 [==============================] - 20s 51ms/step - loss: 1.3680 - acc: 0.5009 - val_loss: 1.1678 - val_acc: 0.5809\n",
            "Epoch 3/100\n",
            "390/390 [==============================] - 20s 51ms/step - loss: 1.1408 - acc: 0.5945 - val_loss: 0.9931 - val_acc: 0.6501\n",
            "Epoch 4/100\n",
            "390/390 [==============================] - 20s 51ms/step - loss: 1.0076 - acc: 0.6485 - val_loss: 0.8722 - val_acc: 0.6942\n",
            "Epoch 5/100\n",
            "390/390 [==============================] - 20s 51ms/step - loss: 0.9094 - acc: 0.6831 - val_loss: 0.7863 - val_acc: 0.7274\n",
            "Epoch 6/100\n",
            "390/390 [==============================] - 20s 52ms/step - loss: 0.8330 - acc: 0.7132 - val_loss: 0.7689 - val_acc: 0.7301\n",
            "Epoch 7/100\n",
            "390/390 [==============================] - 20s 51ms/step - loss: 0.7787 - acc: 0.7330 - val_loss: 0.7254 - val_acc: 0.7525\n",
            "Epoch 8/100\n",
            "390/390 [==============================] - 20s 51ms/step - loss: 0.7305 - acc: 0.7502 - val_loss: 0.7178 - val_acc: 0.7550\n",
            "Epoch 9/100\n",
            "390/390 [==============================] - 20s 52ms/step - loss: 0.6873 - acc: 0.7655 - val_loss: 0.6512 - val_acc: 0.7766\n",
            "Epoch 10/100\n",
            "390/390 [==============================] - 20s 51ms/step - loss: 0.6680 - acc: 0.7718 - val_loss: 0.6354 - val_acc: 0.7809\n",
            "Epoch 11/100\n",
            "390/390 [==============================] - 20s 51ms/step - loss: 0.6397 - acc: 0.7814 - val_loss: 0.6797 - val_acc: 0.7696\n",
            "Epoch 12/100\n",
            "390/390 [==============================] - 20s 51ms/step - loss: 0.6149 - acc: 0.7910 - val_loss: 0.6116 - val_acc: 0.7943\n",
            "Epoch 13/100\n",
            "390/390 [==============================] - 20s 51ms/step - loss: 0.5969 - acc: 0.7970 - val_loss: 0.6041 - val_acc: 0.7915\n",
            "Epoch 14/100\n",
            "390/390 [==============================] - 20s 51ms/step - loss: 0.5752 - acc: 0.8044 - val_loss: 0.6085 - val_acc: 0.7960\n",
            "Epoch 15/100\n",
            "390/390 [==============================] - 20s 51ms/step - loss: 0.5614 - acc: 0.8062 - val_loss: 0.6115 - val_acc: 0.7960\n",
            "Epoch 16/100\n",
            "390/390 [==============================] - 20s 51ms/step - loss: 0.5505 - acc: 0.8125 - val_loss: 0.5926 - val_acc: 0.7978\n",
            "Epoch 17/100\n",
            "390/390 [==============================] - 20s 51ms/step - loss: 0.5273 - acc: 0.8212 - val_loss: 0.5708 - val_acc: 0.8059\n",
            "Epoch 18/100\n",
            "390/390 [==============================] - 20s 51ms/step - loss: 0.5237 - acc: 0.8203 - val_loss: 0.6101 - val_acc: 0.7989\n",
            "Epoch 19/100\n",
            "390/390 [==============================] - 20s 51ms/step - loss: 0.5095 - acc: 0.8275 - val_loss: 0.5837 - val_acc: 0.8053\n",
            "Epoch 20/100\n",
            "390/390 [==============================] - 20s 51ms/step - loss: 0.5052 - acc: 0.8264 - val_loss: 0.5751 - val_acc: 0.8080\n",
            "Epoch 21/100\n",
            "390/390 [==============================] - 20s 51ms/step - loss: 0.4829 - acc: 0.8341 - val_loss: 0.5816 - val_acc: 0.8067\n",
            "Epoch 22/100\n",
            "390/390 [==============================] - 20s 51ms/step - loss: 0.4811 - acc: 0.8350 - val_loss: 0.6074 - val_acc: 0.8069\n",
            "Epoch 23/100\n",
            "390/390 [==============================] - 20s 51ms/step - loss: 0.4699 - acc: 0.8409 - val_loss: 0.5845 - val_acc: 0.8119\n",
            "Epoch 24/100\n",
            "390/390 [==============================] - 20s 51ms/step - loss: 0.4613 - acc: 0.8431 - val_loss: 0.5952 - val_acc: 0.8053\n",
            "Epoch 25/100\n",
            "390/390 [==============================] - 20s 51ms/step - loss: 0.4557 - acc: 0.8452 - val_loss: 0.5830 - val_acc: 0.8111\n",
            "Epoch 26/100\n",
            "390/390 [==============================] - 20s 51ms/step - loss: 0.4428 - acc: 0.8488 - val_loss: 0.6057 - val_acc: 0.8065\n",
            "Epoch 27/100\n",
            "390/390 [==============================] - 20s 51ms/step - loss: 0.4375 - acc: 0.8509 - val_loss: 0.5824 - val_acc: 0.8137\n",
            "Epoch 28/100\n",
            "390/390 [==============================] - 20s 51ms/step - loss: 0.4295 - acc: 0.8542 - val_loss: 0.6306 - val_acc: 0.8044\n",
            "Epoch 29/100\n",
            "390/390 [==============================] - 20s 51ms/step - loss: 0.4279 - acc: 0.8535 - val_loss: 0.5896 - val_acc: 0.8128\n",
            "Epoch 30/100\n",
            "390/390 [==============================] - 20s 51ms/step - loss: 0.4242 - acc: 0.8549 - val_loss: 0.5801 - val_acc: 0.8160\n",
            "Epoch 31/100\n",
            "390/390 [==============================] - 20s 51ms/step - loss: 0.4159 - acc: 0.8577 - val_loss: 0.5821 - val_acc: 0.8116\n",
            "Epoch 32/100\n",
            "390/390 [==============================] - 20s 51ms/step - loss: 0.4092 - acc: 0.8622 - val_loss: 0.5938 - val_acc: 0.8131\n",
            "Epoch 33/100\n",
            "390/390 [==============================] - 20s 51ms/step - loss: 0.4087 - acc: 0.8613 - val_loss: 0.5799 - val_acc: 0.8165\n",
            "Epoch 34/100\n",
            "390/390 [==============================] - 20s 51ms/step - loss: 0.3977 - acc: 0.8676 - val_loss: 0.5896 - val_acc: 0.8111\n",
            "Epoch 35/100\n",
            "390/390 [==============================] - 20s 51ms/step - loss: 0.3970 - acc: 0.8651 - val_loss: 0.5682 - val_acc: 0.8185\n",
            "Epoch 36/100\n",
            "390/390 [==============================] - 20s 51ms/step - loss: 0.3925 - acc: 0.8679 - val_loss: 0.6049 - val_acc: 0.8066\n",
            "Epoch 37/100\n",
            "390/390 [==============================] - 20s 51ms/step - loss: 0.3844 - acc: 0.8688 - val_loss: 0.5776 - val_acc: 0.8194\n",
            "Epoch 38/100\n",
            "390/390 [==============================] - 20s 51ms/step - loss: 0.3831 - acc: 0.8705 - val_loss: 0.5663 - val_acc: 0.8218\n",
            "Epoch 39/100\n",
            "390/390 [==============================] - 20s 51ms/step - loss: 0.3834 - acc: 0.8691 - val_loss: 0.5927 - val_acc: 0.8162\n",
            "Epoch 40/100\n",
            "390/390 [==============================] - 20s 51ms/step - loss: 0.3746 - acc: 0.8744 - val_loss: 0.6065 - val_acc: 0.8176\n",
            "Epoch 41/100\n",
            "390/390 [==============================] - 20s 51ms/step - loss: 0.3767 - acc: 0.8732 - val_loss: 0.5550 - val_acc: 0.8238\n",
            "Epoch 42/100\n",
            "390/390 [==============================] - 20s 51ms/step - loss: 0.3788 - acc: 0.8729 - val_loss: 0.5643 - val_acc: 0.8195\n",
            "Epoch 43/100\n",
            "390/390 [==============================] - 20s 51ms/step - loss: 0.3562 - acc: 0.8814 - val_loss: 0.5661 - val_acc: 0.8260\n",
            "Epoch 44/100\n",
            "390/390 [==============================] - 20s 51ms/step - loss: 0.3797 - acc: 0.8743 - val_loss: 0.5595 - val_acc: 0.8197\n",
            "Epoch 45/100\n",
            "390/390 [==============================] - 20s 51ms/step - loss: 0.3593 - acc: 0.8797 - val_loss: 0.5758 - val_acc: 0.8210\n",
            "Epoch 46/100\n",
            "390/390 [==============================] - 20s 50ms/step - loss: 0.3542 - acc: 0.8812 - val_loss: 0.5763 - val_acc: 0.8226\n",
            "Epoch 47/100\n",
            "390/390 [==============================] - 20s 51ms/step - loss: 0.3519 - acc: 0.8820 - val_loss: 0.5908 - val_acc: 0.8219\n",
            "Epoch 48/100\n",
            "390/390 [==============================] - 20s 50ms/step - loss: 0.3547 - acc: 0.8812 - val_loss: 0.5958 - val_acc: 0.8169\n",
            "Epoch 49/100\n",
            "390/390 [==============================] - 20s 51ms/step - loss: 0.3498 - acc: 0.8844 - val_loss: 0.6157 - val_acc: 0.8132\n",
            "Epoch 50/100\n",
            "390/390 [==============================] - 20s 51ms/step - loss: 0.3401 - acc: 0.8844 - val_loss: 0.6460 - val_acc: 0.8137\n",
            "Epoch 51/100\n",
            "390/390 [==============================] - 20s 51ms/step - loss: 0.3410 - acc: 0.8854 - val_loss: 0.5623 - val_acc: 0.8207\n",
            "Epoch 52/100\n",
            "390/390 [==============================] - 20s 51ms/step - loss: 0.3380 - acc: 0.8866 - val_loss: 0.5634 - val_acc: 0.8265\n",
            "Epoch 53/100\n",
            "390/390 [==============================] - 20s 51ms/step - loss: 0.3308 - acc: 0.8887 - val_loss: 0.5717 - val_acc: 0.8267\n",
            "Epoch 54/100\n",
            "390/390 [==============================] - 20s 51ms/step - loss: 0.3337 - acc: 0.8877 - val_loss: 0.5577 - val_acc: 0.8287\n",
            "Epoch 55/100\n",
            "390/390 [==============================] - 20s 51ms/step - loss: 0.3313 - acc: 0.8912 - val_loss: 0.5490 - val_acc: 0.8320\n",
            "Epoch 56/100\n",
            "390/390 [==============================] - 20s 51ms/step - loss: 0.3407 - acc: 0.8869 - val_loss: 0.5819 - val_acc: 0.8245\n",
            "Epoch 57/100\n",
            "390/390 [==============================] - 20s 51ms/step - loss: 0.3238 - acc: 0.8924 - val_loss: 0.5967 - val_acc: 0.8178\n",
            "Epoch 58/100\n",
            "390/390 [==============================] - 20s 52ms/step - loss: 0.3236 - acc: 0.8923 - val_loss: 0.5851 - val_acc: 0.8213\n",
            "Epoch 59/100\n",
            "390/390 [==============================] - 20s 52ms/step - loss: 0.3268 - acc: 0.8918 - val_loss: 0.5758 - val_acc: 0.8264\n",
            "Epoch 60/100\n",
            "390/390 [==============================] - 20s 51ms/step - loss: 0.3234 - acc: 0.8937 - val_loss: 0.5772 - val_acc: 0.8261\n",
            "Epoch 61/100\n",
            "390/390 [==============================] - 20s 51ms/step - loss: 0.3253 - acc: 0.8919 - val_loss: 0.5855 - val_acc: 0.8227\n",
            "Epoch 62/100\n",
            "390/390 [==============================] - 20s 51ms/step - loss: 0.3141 - acc: 0.8960 - val_loss: 0.5964 - val_acc: 0.8233\n",
            "Epoch 63/100\n",
            "390/390 [==============================] - 20s 51ms/step - loss: 0.3138 - acc: 0.8959 - val_loss: 0.5800 - val_acc: 0.8299\n",
            "Epoch 64/100\n",
            "390/390 [==============================] - 20s 51ms/step - loss: 0.3118 - acc: 0.8965 - val_loss: 0.5867 - val_acc: 0.8269\n",
            "Epoch 65/100\n",
            "390/390 [==============================] - 20s 51ms/step - loss: 0.3145 - acc: 0.8962 - val_loss: 0.6233 - val_acc: 0.8228\n",
            "Epoch 66/100\n",
            "390/390 [==============================] - 20s 51ms/step - loss: 0.3077 - acc: 0.8983 - val_loss: 0.6019 - val_acc: 0.8252\n",
            "Epoch 67/100\n",
            "390/390 [==============================] - 20s 51ms/step - loss: 0.3141 - acc: 0.8965 - val_loss: 0.5730 - val_acc: 0.8291\n",
            "Epoch 68/100\n",
            "390/390 [==============================] - 20s 51ms/step - loss: 0.3121 - acc: 0.9006 - val_loss: 0.6053 - val_acc: 0.8228\n",
            "Epoch 69/100\n",
            "390/390 [==============================] - 20s 51ms/step - loss: 0.3065 - acc: 0.9008 - val_loss: 0.5684 - val_acc: 0.8288\n",
            "Epoch 70/100\n",
            "390/390 [==============================] - 20s 52ms/step - loss: 0.3073 - acc: 0.8996 - val_loss: 0.5945 - val_acc: 0.8266\n",
            "Epoch 71/100\n",
            "390/390 [==============================] - 20s 51ms/step - loss: 0.3049 - acc: 0.8991 - val_loss: 0.5858 - val_acc: 0.8245\n",
            "Epoch 72/100\n",
            "390/390 [==============================] - 20s 51ms/step - loss: 0.2983 - acc: 0.9027 - val_loss: 0.5873 - val_acc: 0.8256\n",
            "Epoch 73/100\n",
            "390/390 [==============================] - 20s 51ms/step - loss: 0.2849 - acc: 0.9067 - val_loss: 0.5748 - val_acc: 0.8305\n",
            "Epoch 74/100\n",
            "390/390 [==============================] - 20s 51ms/step - loss: 0.2973 - acc: 0.9025 - val_loss: 0.6377 - val_acc: 0.8194\n",
            "Epoch 75/100\n",
            "390/390 [==============================] - 20s 51ms/step - loss: 0.3002 - acc: 0.9017 - val_loss: 0.5987 - val_acc: 0.8249\n",
            "Epoch 76/100\n",
            "390/390 [==============================] - 20s 51ms/step - loss: 0.2960 - acc: 0.9038 - val_loss: 0.5894 - val_acc: 0.8270\n",
            "Epoch 77/100\n",
            "390/390 [==============================] - 20s 51ms/step - loss: 0.3040 - acc: 0.9032 - val_loss: 0.5882 - val_acc: 0.8277\n",
            "Epoch 78/100\n",
            "390/390 [==============================] - 20s 51ms/step - loss: 0.2958 - acc: 0.9043 - val_loss: 0.5849 - val_acc: 0.8267\n",
            "Epoch 79/100\n",
            "390/390 [==============================] - 20s 51ms/step - loss: 0.2852 - acc: 0.9065 - val_loss: 0.5831 - val_acc: 0.8292\n",
            "Epoch 80/100\n",
            "390/390 [==============================] - 20s 51ms/step - loss: 0.2938 - acc: 0.9055 - val_loss: 0.6080 - val_acc: 0.8233\n",
            "Epoch 81/100\n",
            "390/390 [==============================] - 20s 51ms/step - loss: 0.2789 - acc: 0.9101 - val_loss: 0.6079 - val_acc: 0.8282\n",
            "Epoch 82/100\n",
            "390/390 [==============================] - 20s 52ms/step - loss: 0.2834 - acc: 0.9095 - val_loss: 0.6000 - val_acc: 0.8300\n",
            "Epoch 83/100\n",
            "390/390 [==============================] - 20s 51ms/step - loss: 0.2818 - acc: 0.9090 - val_loss: 0.5963 - val_acc: 0.8317\n",
            "Epoch 84/100\n",
            "390/390 [==============================] - 20s 51ms/step - loss: 0.2860 - acc: 0.9079 - val_loss: 0.5916 - val_acc: 0.8312\n",
            "Epoch 85/100\n",
            "390/390 [==============================] - 20s 51ms/step - loss: 0.2817 - acc: 0.9099 - val_loss: 0.6054 - val_acc: 0.8320\n",
            "Epoch 86/100\n",
            "390/390 [==============================] - 20s 51ms/step - loss: 0.2885 - acc: 0.9085 - val_loss: 0.6206 - val_acc: 0.8295\n",
            "Epoch 87/100\n",
            "390/390 [==============================] - 20s 51ms/step - loss: 0.2850 - acc: 0.9104 - val_loss: 0.6107 - val_acc: 0.8288\n",
            "Epoch 88/100\n",
            "390/390 [==============================] - 20s 51ms/step - loss: 0.2817 - acc: 0.9078 - val_loss: 0.5988 - val_acc: 0.8313\n",
            "Epoch 89/100\n",
            "390/390 [==============================] - 20s 51ms/step - loss: 0.2790 - acc: 0.9110 - val_loss: 0.5862 - val_acc: 0.8334\n",
            "Epoch 90/100\n",
            "390/390 [==============================] - 20s 51ms/step - loss: 0.2885 - acc: 0.9077 - val_loss: 0.5939 - val_acc: 0.8265\n",
            "Epoch 91/100\n",
            "390/390 [==============================] - 20s 51ms/step - loss: 0.2815 - acc: 0.9106 - val_loss: 0.5942 - val_acc: 0.8332\n",
            "Epoch 92/100\n",
            "390/390 [==============================] - 20s 51ms/step - loss: 0.2787 - acc: 0.9090 - val_loss: 0.6306 - val_acc: 0.8275\n",
            "Epoch 93/100\n",
            "390/390 [==============================] - 20s 52ms/step - loss: 0.2723 - acc: 0.9131 - val_loss: 0.5896 - val_acc: 0.8304\n",
            "Epoch 94/100\n",
            "390/390 [==============================] - 20s 52ms/step - loss: 0.2781 - acc: 0.9133 - val_loss: 0.6215 - val_acc: 0.8297\n",
            "Epoch 95/100\n",
            "390/390 [==============================] - 20s 52ms/step - loss: 0.2828 - acc: 0.9094 - val_loss: 0.5827 - val_acc: 0.8295\n",
            "Epoch 96/100\n",
            "390/390 [==============================] - 20s 52ms/step - loss: 0.2786 - acc: 0.9113 - val_loss: 0.5833 - val_acc: 0.8306\n",
            "Epoch 97/100\n",
            "390/390 [==============================] - 20s 52ms/step - loss: 0.2655 - acc: 0.9154 - val_loss: 0.6197 - val_acc: 0.8254\n",
            "Epoch 98/100\n",
            "390/390 [==============================] - 20s 52ms/step - loss: 0.2723 - acc: 0.9136 - val_loss: 0.6331 - val_acc: 0.8234\n",
            "Epoch 99/100\n",
            "390/390 [==============================] - 20s 52ms/step - loss: 0.2805 - acc: 0.9108 - val_loss: 0.6075 - val_acc: 0.8260\n",
            "Epoch 100/100\n",
            "390/390 [==============================] - 20s 52ms/step - loss: 0.2653 - acc: 0.9158 - val_loss: 0.5976 - val_acc: 0.8353\n",
            "Model took 2004.12 seconds to train\n"
          ],
          "name": "stdout"
        },
        {
          "output_type": "display_data",
          "data": {
            "image/png": "[encoded data removed]",
            "text/plain": [
              "<Figure size 1080x360 with 2 Axes>"
            ]
          },
          "metadata": {
            "tags": []
          }
        },
        {
          "output_type": "stream",
          "text": [
            "Accuracy on test data is: 83.53\n"
          ],
          "name": "stdout"
        }
      ]
    },
    {
      "cell_type": "markdown",
      "metadata": {
        "id": "vGILFY3JBvlX",
        "colab_type": "text"
      },
      "source": [
        "### The validation accuracy of the above network is 83.53% in 100 epochs. Now we are going to redesign the network to perform better than this"
      ]
    },
    {
      "cell_type": "markdown",
      "metadata": {
        "id": "s6zN78RjP8gA",
        "colab_type": "text"
      },
      "source": [
        "# Modifying the Network as per good practices\n",
        "\n",
        "#### Image Normalization\n",
        "#### Batch Normalization\n",
        "#### Adding L2 Regularization\n",
        "#### Using Dropout at right place\n",
        "#### Reduce no. of parameters\n",
        "#### Remove Dense Layer"
      ]
    },
    {
      "cell_type": "code",
      "metadata": {
        "id": "zqKNGW_VP1yY",
        "colab_type": "code",
        "colab": {
          "base_uri": "https://localhost:8080/",
          "height": 1000
        },
        "outputId": "9c6771ee-f9d0-4090-ca75-9a78275c48b0"
      },
      "source": [
        "\n",
        "# Define the model\n",
        "model = Sequential()\n",
        "model.add(Convolution2D(32, 3, 3, border_mode='same',kernel_regularizer=regularizers.l2(0.0001), input_shape=(32, 32, 3))) # output 32\n",
        "model.add(Activation('relu'))\n",
        "model.add(BatchNormalization())\n",
        "\n",
        "model.add(Convolution2D(64, 3, 3,kernel_regularizer=regularizers.l2(0.0001),border_mode='same')) # output 32\n",
        "model.add(Activation('relu'))\n",
        "model.add(BatchNormalization())\n",
        "\n",
        "model.add(MaxPooling2D(pool_size=(2, 2))) # output 16\n",
        "model.add(Dropout(0.2))\n",
        "\n",
        "model.add(Convolution2D(32, 1, 1))\n",
        "\n",
        "\n",
        "model.add(Convolution2D(64, 3, 3,kernel_regularizer=regularizers.l2(0.0001),border_mode='same')) # output 16\n",
        "model.add(Activation('relu'))\n",
        "model.add(BatchNormalization())\n",
        "\n",
        "model.add(Convolution2D(128, 3, 3,kernel_regularizer=regularizers.l2(0.0001),border_mode='same')) # output 16\n",
        "model.add(Activation('relu'))\n",
        "model.add(BatchNormalization())\n",
        "\n",
        "model.add(MaxPooling2D(pool_size=(2, 2))) # output 8\n",
        "model.add(Dropout(0.3))\n",
        "\n",
        "model.add(Convolution2D(32, 1, 1))\n",
        "\n",
        "\n",
        "model.add(Convolution2D(128, 3, 3,kernel_regularizer=regularizers.l2(0.0001), border_mode='same')) # output 8\n",
        "model.add(Activation('relu'))\n",
        "model.add(BatchNormalization())\n",
        "\n",
        "model.add(Convolution2D(256, 3, 3,kernel_regularizer=regularizers.l2(0.0001), border_mode='same')) # output 8\n",
        "model.add(Activation('relu'))\n",
        "model.add(BatchNormalization())\n",
        "\n",
        "model.add(MaxPooling2D(pool_size=(2, 2))) # output 4\n",
        "model.add(Dropout(0.5))\n",
        "\n",
        "model.add(Convolution2D(4, 1))\n",
        "model.add(Activation('relu'))\n",
        "model.add(BatchNormalization())\n",
        "\n",
        "model.add(Convolution2D(10, 4))\n",
        "model.add(Flatten())\n",
        "\n",
        "\n",
        "model.add(Activation('softmax'))\n",
        "\n",
        "model.summary()\n",
        "\n",
        "model.compile(optimizer='adam', loss='categorical_crossentropy', metrics=['accuracy'])"
      ],
      "execution_count": 16,
      "outputs": [
        {
          "output_type": "stream",
          "text": [
            "/usr/local/lib/python3.6/dist-packages/ipykernel_launcher.py:2: UserWarning: Update your `Conv2D` call to the Keras 2 API: `Conv2D(32, (3, 3), kernel_regularizer=<keras.reg..., input_shape=(32, 32, 3..., padding=\"same\")`\n",
            "  \n",
            "/usr/local/lib/python3.6/dist-packages/ipykernel_launcher.py:6: UserWarning: Update your `Conv2D` call to the Keras 2 API: `Conv2D(64, (3, 3), kernel_regularizer=<keras.reg..., padding=\"same\")`\n",
            "  \n",
            "/usr/local/lib/python3.6/dist-packages/ipykernel_launcher.py:13: UserWarning: Update your `Conv2D` call to the Keras 2 API: `Conv2D(32, (1, 1))`\n",
            "  del sys.path[0]\n",
            "/usr/local/lib/python3.6/dist-packages/ipykernel_launcher.py:16: UserWarning: Update your `Conv2D` call to the Keras 2 API: `Conv2D(64, (3, 3), kernel_regularizer=<keras.reg..., padding=\"same\")`\n",
            "  app.launch_new_instance()\n",
            "/usr/local/lib/python3.6/dist-packages/ipykernel_launcher.py:20: UserWarning: Update your `Conv2D` call to the Keras 2 API: `Conv2D(128, (3, 3), kernel_regularizer=<keras.reg..., padding=\"same\")`\n",
            "/usr/local/lib/python3.6/dist-packages/ipykernel_launcher.py:27: UserWarning: Update your `Conv2D` call to the Keras 2 API: `Conv2D(32, (1, 1))`\n",
            "/usr/local/lib/python3.6/dist-packages/ipykernel_launcher.py:30: UserWarning: Update your `Conv2D` call to the Keras 2 API: `Conv2D(128, (3, 3), kernel_regularizer=<keras.reg..., padding=\"same\")`\n",
            "/usr/local/lib/python3.6/dist-packages/ipykernel_launcher.py:34: UserWarning: Update your `Conv2D` call to the Keras 2 API: `Conv2D(256, (3, 3), kernel_regularizer=<keras.reg..., padding=\"same\")`\n"
          ],
          "name": "stderr"
        },
        {
          "output_type": "stream",
          "text": [
            "Model: \"sequential_4\"\n",
            "_________________________________________________________________\n",
            "Layer (type)                 Output Shape              Param #   \n",
            "=================================================================\n",
            "conv2d_27 (Conv2D)           (None, 32, 32, 32)        896       \n",
            "_________________________________________________________________\n",
            "activation_25 (Activation)   (None, 32, 32, 32)        0         \n",
            "_________________________________________________________________\n",
            "batch_normalization_15 (Batc (None, 32, 32, 32)        128       \n",
            "_________________________________________________________________\n",
            "conv2d_28 (Conv2D)           (None, 32, 32, 64)        18496     \n",
            "_________________________________________________________________\n",
            "activation_26 (Activation)   (None, 32, 32, 64)        0         \n",
            "_________________________________________________________________\n",
            "batch_normalization_16 (Batc (None, 32, 32, 64)        256       \n",
            "_________________________________________________________________\n",
            "max_pooling2d_10 (MaxPooling (None, 16, 16, 64)        0         \n",
            "_________________________________________________________________\n",
            "dropout_12 (Dropout)         (None, 16, 16, 64)        0         \n",
            "_________________________________________________________________\n",
            "conv2d_29 (Conv2D)           (None, 16, 16, 32)        2080      \n",
            "_________________________________________________________________\n",
            "conv2d_30 (Conv2D)           (None, 16, 16, 64)        18496     \n",
            "_________________________________________________________________\n",
            "activation_27 (Activation)   (None, 16, 16, 64)        0         \n",
            "_________________________________________________________________\n",
            "batch_normalization_17 (Batc (None, 16, 16, 64)        256       \n",
            "_________________________________________________________________\n",
            "conv2d_31 (Conv2D)           (None, 16, 16, 128)       73856     \n",
            "_________________________________________________________________\n",
            "activation_28 (Activation)   (None, 16, 16, 128)       0         \n",
            "_________________________________________________________________\n",
            "batch_normalization_18 (Batc (None, 16, 16, 128)       512       \n",
            "_________________________________________________________________\n",
            "max_pooling2d_11 (MaxPooling (None, 8, 8, 128)         0         \n",
            "_________________________________________________________________\n",
            "dropout_13 (Dropout)         (None, 8, 8, 128)         0         \n",
            "_________________________________________________________________\n",
            "conv2d_32 (Conv2D)           (None, 8, 8, 32)          4128      \n",
            "_________________________________________________________________\n",
            "conv2d_33 (Conv2D)           (None, 8, 8, 128)         36992     \n",
            "_________________________________________________________________\n",
            "activation_29 (Activation)   (None, 8, 8, 128)         0         \n",
            "_________________________________________________________________\n",
            "batch_normalization_19 (Batc (None, 8, 8, 128)         512       \n",
            "_________________________________________________________________\n",
            "conv2d_34 (Conv2D)           (None, 8, 8, 256)         295168    \n",
            "_________________________________________________________________\n",
            "activation_30 (Activation)   (None, 8, 8, 256)         0         \n",
            "_________________________________________________________________\n",
            "batch_normalization_20 (Batc (None, 8, 8, 256)         1024      \n",
            "_________________________________________________________________\n",
            "max_pooling2d_12 (MaxPooling (None, 4, 4, 256)         0         \n",
            "_________________________________________________________________\n",
            "dropout_14 (Dropout)         (None, 4, 4, 256)         0         \n",
            "_________________________________________________________________\n",
            "conv2d_35 (Conv2D)           (None, 4, 4, 4)           1028      \n",
            "_________________________________________________________________\n",
            "activation_31 (Activation)   (None, 4, 4, 4)           0         \n",
            "_________________________________________________________________\n",
            "batch_normalization_21 (Batc (None, 4, 4, 4)           16        \n",
            "_________________________________________________________________\n",
            "conv2d_36 (Conv2D)           (None, 1, 1, 10)          650       \n",
            "_________________________________________________________________\n",
            "flatten_4 (Flatten)          (None, 10)                0         \n",
            "_________________________________________________________________\n",
            "activation_32 (Activation)   (None, 10)                0         \n",
            "=================================================================\n",
            "Total params: 454,494\n",
            "Trainable params: 453,142\n",
            "Non-trainable params: 1,352\n",
            "_________________________________________________________________\n"
          ],
          "name": "stdout"
        }
      ]
    },
    {
      "cell_type": "code",
      "metadata": {
        "id": "dfnzUnUGUuuQ",
        "colab_type": "code",
        "colab": {
          "base_uri": "https://localhost:8080/",
          "height": 1000
        },
        "outputId": "2fc1d9e7-386d-4826-bd91-561b40b907c7"
      },
      "source": [
        "# train the model\n",
        "start = time.time()\n",
        "# Train the model\n",
        "model_info = model.fit_generator(datagen.flow(train_features, train_labels, batch_size = 128),\n",
        "                                 samples_per_epoch = train_features.shape[0], nb_epoch = 100, \n",
        "                                 validation_data = (test_features, test_labels), verbose=1)\n",
        "end = time.time()\n",
        "print (\"Model took %0.2f seconds to train\"%(end - start))\n",
        "# plot model history\n",
        "plot_model_history(model_info)\n",
        "# compute test accuracy\n",
        "print (\"Accuracy on test data is: %0.2f\"%accuracy(test_features, test_labels, model))"
      ],
      "execution_count": 17,
      "outputs": [
        {
          "output_type": "stream",
          "text": [
            "/usr/local/lib/python3.6/dist-packages/ipykernel_launcher.py:5: UserWarning: The semantics of the Keras 2 argument `steps_per_epoch` is not the same as the Keras 1 argument `samples_per_epoch`. `steps_per_epoch` is the number of batches to draw from the generator at each epoch. Basically steps_per_epoch = samples_per_epoch/batch_size. Similarly `nb_val_samples`->`validation_steps` and `val_samples`->`steps` arguments have changed. Update your method calls accordingly.\n",
            "  \"\"\"\n",
            "/usr/local/lib/python3.6/dist-packages/ipykernel_launcher.py:5: UserWarning: Update your `fit_generator` call to the Keras 2 API: `fit_generator(<keras_pre..., validation_data=(array([[[..., verbose=1, steps_per_epoch=390, epochs=100)`\n",
            "  \"\"\"\n"
          ],
          "name": "stderr"
        },
        {
          "output_type": "stream",
          "text": [
            "Epoch 1/100\n",
            "390/390 [==============================] - 33s 84ms/step - loss: 1.5022 - acc: 0.4712 - val_loss: 1.2442 - val_acc: 0.5770\n",
            "Epoch 2/100\n",
            "390/390 [==============================] - 29s 76ms/step - loss: 1.0300 - acc: 0.6522 - val_loss: 1.0498 - val_acc: 0.6456\n",
            "Epoch 3/100\n",
            "390/390 [==============================] - 29s 76ms/step - loss: 0.8725 - acc: 0.7125 - val_loss: 0.8526 - val_acc: 0.7201\n",
            "Epoch 4/100\n",
            "390/390 [==============================] - 29s 76ms/step - loss: 0.7758 - acc: 0.7497 - val_loss: 0.8061 - val_acc: 0.7422\n",
            "Epoch 5/100\n",
            "390/390 [==============================] - 29s 76ms/step - loss: 0.7246 - acc: 0.7691 - val_loss: 0.8043 - val_acc: 0.7490\n",
            "Epoch 6/100\n",
            "390/390 [==============================] - 30s 76ms/step - loss: 0.6743 - acc: 0.7898 - val_loss: 0.8750 - val_acc: 0.7288\n",
            "Epoch 7/100\n",
            "390/390 [==============================] - 29s 75ms/step - loss: 0.6439 - acc: 0.8040 - val_loss: 0.7924 - val_acc: 0.7624\n",
            "Epoch 8/100\n",
            "390/390 [==============================] - 30s 76ms/step - loss: 0.6119 - acc: 0.8177 - val_loss: 0.7103 - val_acc: 0.7904\n",
            "Epoch 9/100\n",
            "390/390 [==============================] - 30s 76ms/step - loss: 0.5840 - acc: 0.8303 - val_loss: 0.6830 - val_acc: 0.8005\n",
            "Epoch 10/100\n",
            "390/390 [==============================] - 30s 76ms/step - loss: 0.5627 - acc: 0.8404 - val_loss: 0.7705 - val_acc: 0.7761\n",
            "Epoch 11/100\n",
            "390/390 [==============================] - 29s 76ms/step - loss: 0.5459 - acc: 0.8481 - val_loss: 0.7031 - val_acc: 0.8014\n",
            "Epoch 12/100\n",
            "390/390 [==============================] - 29s 75ms/step - loss: 0.5345 - acc: 0.8550 - val_loss: 0.6867 - val_acc: 0.8107\n",
            "Epoch 13/100\n",
            "390/390 [==============================] - 29s 75ms/step - loss: 0.5202 - acc: 0.8609 - val_loss: 0.7588 - val_acc: 0.7964\n",
            "Epoch 14/100\n",
            "390/390 [==============================] - 29s 75ms/step - loss: 0.5043 - acc: 0.8682 - val_loss: 0.7919 - val_acc: 0.7874\n",
            "Epoch 15/100\n",
            "390/390 [==============================] - 30s 76ms/step - loss: 0.5050 - acc: 0.8696 - val_loss: 0.6887 - val_acc: 0.8183\n",
            "Epoch 16/100\n",
            "390/390 [==============================] - 29s 75ms/step - loss: 0.4886 - acc: 0.8776 - val_loss: 0.7008 - val_acc: 0.8238\n",
            "Epoch 17/100\n",
            "390/390 [==============================] - 29s 75ms/step - loss: 0.4851 - acc: 0.8801 - val_loss: 0.7554 - val_acc: 0.8012\n",
            "Epoch 18/100\n",
            "390/390 [==============================] - 30s 76ms/step - loss: 0.4732 - acc: 0.8854 - val_loss: 0.7085 - val_acc: 0.8154\n",
            "Epoch 19/100\n",
            "390/390 [==============================] - 29s 76ms/step - loss: 0.4674 - acc: 0.8871 - val_loss: 0.6792 - val_acc: 0.8344\n",
            "Epoch 20/100\n",
            "390/390 [==============================] - 30s 76ms/step - loss: 0.4609 - acc: 0.8911 - val_loss: 0.7234 - val_acc: 0.8235\n",
            "Epoch 21/100\n",
            "390/390 [==============================] - 30s 76ms/step - loss: 0.4604 - acc: 0.8925 - val_loss: 0.6851 - val_acc: 0.8294\n",
            "Epoch 22/100\n",
            "390/390 [==============================] - 30s 76ms/step - loss: 0.4530 - acc: 0.8960 - val_loss: 0.7326 - val_acc: 0.8181\n",
            "Epoch 23/100\n",
            "390/390 [==============================] - 30s 76ms/step - loss: 0.4487 - acc: 0.8977 - val_loss: 1.2798 - val_acc: 0.7092\n",
            "Epoch 24/100\n",
            "390/390 [==============================] - 29s 75ms/step - loss: 0.4475 - acc: 0.9005 - val_loss: 0.7017 - val_acc: 0.8243\n",
            "Epoch 25/100\n",
            "390/390 [==============================] - 29s 75ms/step - loss: 0.4415 - acc: 0.9032 - val_loss: 0.6899 - val_acc: 0.8363\n",
            "Epoch 26/100\n",
            "390/390 [==============================] - 29s 75ms/step - loss: 0.4400 - acc: 0.9042 - val_loss: 0.7096 - val_acc: 0.8325\n",
            "Epoch 27/100\n",
            "390/390 [==============================] - 29s 75ms/step - loss: 0.4396 - acc: 0.9062 - val_loss: 0.7691 - val_acc: 0.8182\n",
            "Epoch 28/100\n",
            "390/390 [==============================] - 29s 75ms/step - loss: 0.4304 - acc: 0.9099 - val_loss: 0.8189 - val_acc: 0.8173\n",
            "Epoch 29/100\n",
            "390/390 [==============================] - 29s 75ms/step - loss: 0.4286 - acc: 0.9108 - val_loss: 0.7592 - val_acc: 0.8234\n",
            "Epoch 30/100\n",
            "390/390 [==============================] - 29s 75ms/step - loss: 0.4233 - acc: 0.9122 - val_loss: 0.8257 - val_acc: 0.8141\n",
            "Epoch 31/100\n",
            "390/390 [==============================] - 30s 76ms/step - loss: 0.4270 - acc: 0.9124 - val_loss: 0.7014 - val_acc: 0.8394\n",
            "Epoch 32/100\n",
            "390/390 [==============================] - 30s 76ms/step - loss: 0.4218 - acc: 0.9147 - val_loss: 0.6991 - val_acc: 0.8438\n",
            "Epoch 33/100\n",
            "390/390 [==============================] - 29s 76ms/step - loss: 0.4217 - acc: 0.9140 - val_loss: 0.7302 - val_acc: 0.8353\n",
            "Epoch 34/100\n",
            "390/390 [==============================] - 30s 76ms/step - loss: 0.4160 - acc: 0.9174 - val_loss: 0.7439 - val_acc: 0.8352\n",
            "Epoch 35/100\n",
            "390/390 [==============================] - 30s 76ms/step - loss: 0.4176 - acc: 0.9177 - val_loss: 0.6974 - val_acc: 0.8457\n",
            "Epoch 36/100\n",
            "390/390 [==============================] - 29s 75ms/step - loss: 0.4096 - acc: 0.9217 - val_loss: 0.7402 - val_acc: 0.8356\n",
            "Epoch 37/100\n",
            "390/390 [==============================] - 29s 75ms/step - loss: 0.4114 - acc: 0.9188 - val_loss: 0.7322 - val_acc: 0.8389\n",
            "Epoch 38/100\n",
            "390/390 [==============================] - 29s 75ms/step - loss: 0.4123 - acc: 0.9217 - val_loss: 0.7038 - val_acc: 0.8456\n",
            "Epoch 39/100\n",
            "390/390 [==============================] - 30s 76ms/step - loss: 0.4056 - acc: 0.9221 - val_loss: 0.7780 - val_acc: 0.8278\n",
            "Epoch 40/100\n",
            "390/390 [==============================] - 29s 75ms/step - loss: 0.4037 - acc: 0.9237 - val_loss: 0.7207 - val_acc: 0.8425\n",
            "Epoch 41/100\n",
            "390/390 [==============================] - 29s 75ms/step - loss: 0.3979 - acc: 0.9267 - val_loss: 0.7184 - val_acc: 0.8421\n",
            "Epoch 42/100\n",
            "390/390 [==============================] - 29s 76ms/step - loss: 0.4088 - acc: 0.9238 - val_loss: 0.7569 - val_acc: 0.8335\n",
            "Epoch 43/100\n",
            "390/390 [==============================] - 29s 75ms/step - loss: 0.4017 - acc: 0.9265 - val_loss: 0.9066 - val_acc: 0.8176\n",
            "Epoch 44/100\n",
            "390/390 [==============================] - 29s 75ms/step - loss: 0.4023 - acc: 0.9272 - val_loss: 0.7566 - val_acc: 0.8385\n",
            "Epoch 45/100\n",
            "390/390 [==============================] - 29s 75ms/step - loss: 0.4043 - acc: 0.9273 - val_loss: 0.8267 - val_acc: 0.8178\n",
            "Epoch 46/100\n",
            "390/390 [==============================] - 30s 76ms/step - loss: 0.4077 - acc: 0.9249 - val_loss: 0.7490 - val_acc: 0.8376\n",
            "Epoch 47/100\n",
            "390/390 [==============================] - 29s 76ms/step - loss: 0.3908 - acc: 0.9314 - val_loss: 0.7043 - val_acc: 0.8516\n",
            "Epoch 48/100\n",
            "390/390 [==============================] - 29s 75ms/step - loss: 0.3998 - acc: 0.9278 - val_loss: 0.7852 - val_acc: 0.8347\n",
            "Epoch 49/100\n",
            "390/390 [==============================] - 29s 75ms/step - loss: 0.4007 - acc: 0.9291 - val_loss: 0.9220 - val_acc: 0.8019\n",
            "Epoch 50/100\n",
            "390/390 [==============================] - 29s 75ms/step - loss: 0.4022 - acc: 0.9293 - val_loss: 0.7644 - val_acc: 0.8394\n",
            "Epoch 51/100\n",
            "390/390 [==============================] - 29s 76ms/step - loss: 0.3955 - acc: 0.9313 - val_loss: 0.7660 - val_acc: 0.8359\n",
            "Epoch 52/100\n",
            "390/390 [==============================] - 29s 76ms/step - loss: 0.3934 - acc: 0.9318 - val_loss: 0.7227 - val_acc: 0.8488\n",
            "Epoch 53/100\n",
            "390/390 [==============================] - 29s 76ms/step - loss: 0.3962 - acc: 0.9306 - val_loss: 0.7920 - val_acc: 0.8340\n",
            "Epoch 54/100\n",
            "390/390 [==============================] - 30s 76ms/step - loss: 0.3958 - acc: 0.9323 - val_loss: 0.7872 - val_acc: 0.8393\n",
            "Epoch 55/100\n",
            "390/390 [==============================] - 29s 75ms/step - loss: 0.3886 - acc: 0.9339 - val_loss: 0.8562 - val_acc: 0.8239\n",
            "Epoch 56/100\n",
            "390/390 [==============================] - 29s 75ms/step - loss: 0.3903 - acc: 0.9335 - val_loss: 0.7319 - val_acc: 0.8519\n",
            "Epoch 57/100\n",
            "390/390 [==============================] - 29s 76ms/step - loss: 0.3864 - acc: 0.9342 - val_loss: 0.7500 - val_acc: 0.8446\n",
            "Epoch 58/100\n",
            "390/390 [==============================] - 29s 76ms/step - loss: 0.3911 - acc: 0.9332 - val_loss: 0.7875 - val_acc: 0.8401\n",
            "Epoch 59/100\n",
            "390/390 [==============================] - 29s 75ms/step - loss: 0.3972 - acc: 0.9323 - val_loss: 0.7527 - val_acc: 0.8401\n",
            "Epoch 60/100\n",
            "390/390 [==============================] - 29s 75ms/step - loss: 0.3878 - acc: 0.9345 - val_loss: 0.7506 - val_acc: 0.8479\n",
            "Epoch 61/100\n",
            "390/390 [==============================] - 29s 75ms/step - loss: 0.3877 - acc: 0.9352 - val_loss: 0.7610 - val_acc: 0.8429\n",
            "Epoch 62/100\n",
            "390/390 [==============================] - 29s 75ms/step - loss: 0.3809 - acc: 0.9376 - val_loss: 0.7602 - val_acc: 0.8497\n",
            "Epoch 63/100\n",
            "390/390 [==============================] - 29s 75ms/step - loss: 0.3888 - acc: 0.9339 - val_loss: 0.7609 - val_acc: 0.8450\n",
            "Epoch 64/100\n",
            "390/390 [==============================] - 29s 75ms/step - loss: 0.3849 - acc: 0.9373 - val_loss: 0.8010 - val_acc: 0.8355\n",
            "Epoch 65/100\n",
            "390/390 [==============================] - 30s 76ms/step - loss: 0.3826 - acc: 0.9368 - val_loss: 0.7074 - val_acc: 0.8565\n",
            "Epoch 66/100\n",
            "390/390 [==============================] - 29s 76ms/step - loss: 0.3786 - acc: 0.9374 - val_loss: 0.7688 - val_acc: 0.8440\n",
            "Epoch 67/100\n",
            "390/390 [==============================] - 29s 75ms/step - loss: 0.3848 - acc: 0.9373 - val_loss: 0.7618 - val_acc: 0.8414\n",
            "Epoch 68/100\n",
            "390/390 [==============================] - 29s 76ms/step - loss: 0.3818 - acc: 0.9367 - val_loss: 0.7606 - val_acc: 0.8460\n",
            "Epoch 69/100\n",
            "390/390 [==============================] - 29s 75ms/step - loss: 0.3811 - acc: 0.9380 - val_loss: 0.7230 - val_acc: 0.8548\n",
            "Epoch 70/100\n",
            "390/390 [==============================] - 29s 75ms/step - loss: 0.3811 - acc: 0.9393 - val_loss: 0.7613 - val_acc: 0.8381\n",
            "Epoch 71/100\n",
            "390/390 [==============================] - 29s 76ms/step - loss: 0.3797 - acc: 0.9387 - val_loss: 0.8228 - val_acc: 0.8321\n",
            "Epoch 72/100\n",
            "390/390 [==============================] - 30s 76ms/step - loss: 0.3773 - acc: 0.9402 - val_loss: 0.7805 - val_acc: 0.8439\n",
            "Epoch 73/100\n",
            "390/390 [==============================] - 29s 76ms/step - loss: 0.3749 - acc: 0.9390 - val_loss: 0.7636 - val_acc: 0.8445\n",
            "Epoch 74/100\n",
            "390/390 [==============================] - 30s 76ms/step - loss: 0.3790 - acc: 0.9386 - val_loss: 0.7586 - val_acc: 0.8506\n",
            "Epoch 75/100\n",
            "390/390 [==============================] - 29s 75ms/step - loss: 0.3755 - acc: 0.9418 - val_loss: 0.7775 - val_acc: 0.8419\n",
            "Epoch 76/100\n",
            "390/390 [==============================] - 29s 75ms/step - loss: 0.3702 - acc: 0.9422 - val_loss: 0.7409 - val_acc: 0.8494\n",
            "Epoch 77/100\n",
            "390/390 [==============================] - 30s 76ms/step - loss: 0.3758 - acc: 0.9401 - val_loss: 0.8194 - val_acc: 0.8334\n",
            "Epoch 78/100\n",
            "390/390 [==============================] - 29s 75ms/step - loss: 0.3747 - acc: 0.9412 - val_loss: 0.7600 - val_acc: 0.8467\n",
            "Epoch 79/100\n",
            "390/390 [==============================] - 29s 75ms/step - loss: 0.3777 - acc: 0.9392 - val_loss: 0.8274 - val_acc: 0.8378\n",
            "Epoch 80/100\n",
            "390/390 [==============================] - 29s 75ms/step - loss: 0.3799 - acc: 0.9408 - val_loss: 0.8050 - val_acc: 0.8344\n",
            "Epoch 81/100\n",
            "390/390 [==============================] - 30s 76ms/step - loss: 0.3738 - acc: 0.9422 - val_loss: 0.7433 - val_acc: 0.8522\n",
            "Epoch 82/100\n",
            "390/390 [==============================] - 30s 76ms/step - loss: 0.3756 - acc: 0.9410 - val_loss: 0.7540 - val_acc: 0.8511\n",
            "Epoch 83/100\n",
            "390/390 [==============================] - 29s 76ms/step - loss: 0.3703 - acc: 0.9435 - val_loss: 0.8275 - val_acc: 0.8391\n",
            "Epoch 84/100\n",
            "390/390 [==============================] - 29s 75ms/step - loss: 0.3629 - acc: 0.9455 - val_loss: 0.7466 - val_acc: 0.8547\n",
            "Epoch 85/100\n",
            "390/390 [==============================] - 30s 76ms/step - loss: 0.3760 - acc: 0.9395 - val_loss: 0.7743 - val_acc: 0.8456\n",
            "Epoch 86/100\n",
            "390/390 [==============================] - 29s 75ms/step - loss: 0.3700 - acc: 0.9436 - val_loss: 0.7997 - val_acc: 0.8449\n",
            "Epoch 87/100\n",
            "390/390 [==============================] - 29s 75ms/step - loss: 0.3677 - acc: 0.9436 - val_loss: 0.7291 - val_acc: 0.8519\n",
            "Epoch 88/100\n",
            "390/390 [==============================] - 30s 76ms/step - loss: 0.3695 - acc: 0.9436 - val_loss: 0.7696 - val_acc: 0.8461\n",
            "Epoch 89/100\n",
            "390/390 [==============================] - 30s 76ms/step - loss: 0.3732 - acc: 0.9422 - val_loss: 0.7554 - val_acc: 0.8538\n",
            "Epoch 90/100\n",
            "390/390 [==============================] - 29s 75ms/step - loss: 0.3665 - acc: 0.9447 - val_loss: 0.7836 - val_acc: 0.8467\n",
            "Epoch 91/100\n",
            "390/390 [==============================] - 29s 75ms/step - loss: 0.3720 - acc: 0.9428 - val_loss: 0.7790 - val_acc: 0.8408\n",
            "Epoch 92/100\n",
            "390/390 [==============================] - 29s 75ms/step - loss: 0.3625 - acc: 0.9462 - val_loss: 0.8820 - val_acc: 0.8245\n",
            "Epoch 93/100\n",
            "390/390 [==============================] - 29s 75ms/step - loss: 0.3683 - acc: 0.9429 - val_loss: 0.7529 - val_acc: 0.8487\n",
            "Epoch 94/100\n",
            "390/390 [==============================] - 29s 75ms/step - loss: 0.3649 - acc: 0.9442 - val_loss: 0.7343 - val_acc: 0.8544\n",
            "Epoch 95/100\n",
            "390/390 [==============================] - 29s 76ms/step - loss: 0.3659 - acc: 0.9429 - val_loss: 0.7835 - val_acc: 0.8499\n",
            "Epoch 96/100\n",
            "390/390 [==============================] - 30s 76ms/step - loss: 0.3672 - acc: 0.9435 - val_loss: 0.7496 - val_acc: 0.8465\n",
            "Epoch 97/100\n",
            "390/390 [==============================] - 30s 76ms/step - loss: 0.3682 - acc: 0.9435 - val_loss: 0.7370 - val_acc: 0.8514\n",
            "Epoch 98/100\n",
            "390/390 [==============================] - 29s 75ms/step - loss: 0.3675 - acc: 0.9438 - val_loss: 0.7595 - val_acc: 0.8472\n",
            "Epoch 99/100\n",
            "390/390 [==============================] - 29s 75ms/step - loss: 0.3618 - acc: 0.9459 - val_loss: 0.7744 - val_acc: 0.8449\n",
            "Epoch 100/100\n",
            "390/390 [==============================] - 29s 75ms/step - loss: 0.3676 - acc: 0.9432 - val_loss: 0.7636 - val_acc: 0.8441\n",
            "Model took 2949.30 seconds to train\n"
          ],
          "name": "stdout"
        },
        {
          "output_type": "display_data",
          "data": {
            "image/png": "[encoded data removed]",
            "text/plain": [
              "<Figure size 1080x360 with 2 Axes>"
            ]
          },
          "metadata": {
            "tags": []
          }
        },
        {
          "output_type": "stream",
          "text": [
            "Accuracy on test data is: 84.41\n"
          ],
          "name": "stdout"
        }
      ]
    },
    {
      "cell_type": "markdown",
      "metadata": {
        "id": "eMvEYMTdAcDG",
        "colab_type": "text"
      },
      "source": [
        "### As we can see this model is reaching better validation accuracy of 83.63% in just 25th iteration. The model also has a reduction in no. of parameters than the previous model which is 454,494. The model also achieve a max validation accuracy of 85.65% "
      ]
    },
    {
      "cell_type": "code",
      "metadata": {
        "id": "8xWTCQQ9jEfi",
        "colab_type": "code",
        "colab": {}
      },
      "source": [
        ""
      ],
      "execution_count": 0,
      "outputs": []
    }
  ]
}