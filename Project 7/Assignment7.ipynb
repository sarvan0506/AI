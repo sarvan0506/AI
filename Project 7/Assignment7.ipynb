{
  "nbformat": 4,
  "nbformat_minor": 0,
  "metadata": {
    "colab": {
      "name": "Assignment7.ipynb",
      "provenance": [],
      "include_colab_link": true
    },
    "kernelspec": {
      "name": "python3",
      "display_name": "Python 3"
    },
    "accelerator": "GPU"
  },
  "cells": [
    {
      "cell_type": "markdown",
      "metadata": {
        "id": "view-in-github",
        "colab_type": "text"
      },
      "source": [
        "<a href=\"https://colab.research.google.com/github/sarvan0506/AI/blob/Dev/Assignment7.ipynb\" target=\"_parent\"><img src=\"https://colab.research.google.com/assets/colab-badge.svg\" alt=\"Open In Colab\"/></a>"
      ]
    },
    {
      "cell_type": "markdown",
      "metadata": {
        "id": "SSFVGOsnJa-j",
        "colab_type": "text"
      },
      "source": [
        "# Understanding ENAS network, Skip Connections and multiple receptive fields"
      ]
    },
    {
      "cell_type": "markdown",
      "metadata": {
        "id": "ub-NcPx_KJb1",
        "colab_type": "text"
      },
      "source": [
        "##### Import libraries"
      ]
    },
    {
      "cell_type": "code",
      "metadata": {
        "id": "8LWG5wddJXhC",
        "colab_type": "code",
        "outputId": "cb371a51-6606-48f6-cb2e-34054818dea1",
        "colab": {
          "base_uri": "https://localhost:8080/",
          "height": 80
        }
      },
      "source": [
        "import tensorflow as tf\n",
        "from keras import backend as K\n",
        "import time\n",
        "import matplotlib.pyplot as plt\n",
        "import numpy as np\n",
        "% matplotlib inline\n",
        "np.random.seed(2017) \n",
        "from keras import regularizers, layers\n",
        "from keras.models import Model\n",
        "from keras.layers.convolutional import Convolution2D, MaxPooling2D, AveragePooling2D, SeparableConv2D\n",
        "from keras.layers import Activation, Flatten, Dropout, Input, concatenate, Lambda\n",
        "from keras.layers.normalization import BatchNormalization\n",
        "from keras.utils import np_utils\n",
        "\n",
        "from keras.optimizers import Adam, SGD\n",
        "from keras.preprocessing.image import ImageDataGenerator"
      ],
      "execution_count": 0,
      "outputs": [
        {
          "output_type": "display_data",
          "data": {
            "text/html": [
              "<p style=\"color: red;\">\n",
              "The default version of TensorFlow in Colab will soon switch to TensorFlow 2.x.<br>\n",
              "We recommend you <a href=\"https://www.tensorflow.org/guide/migrate\" target=\"_blank\">upgrade</a> now \n",
              "or ensure your notebook will continue to use TensorFlow 1.x via the <code>%tensorflow_version 1.x</code> magic:\n",
              "<a href=\"https://colab.research.google.com/notebooks/tensorflow_version.ipynb\" target=\"_blank\">more info</a>.</p>\n"
            ],
            "text/plain": [
              "<IPython.core.display.HTML object>"
            ]
          },
          "metadata": {
            "tags": []
          }
        },
        {
          "output_type": "stream",
          "text": [
            "Using TensorFlow backend.\n"
          ],
          "name": "stderr"
        }
      ]
    },
    {
      "cell_type": "markdown",
      "metadata": {
        "id": "zH5gdF4JKQHp",
        "colab_type": "text"
      },
      "source": [
        "##### Downloading CIFAR10 dataset"
      ]
    },
    {
      "cell_type": "code",
      "metadata": {
        "id": "zX4qLNIxJ69E",
        "colab_type": "code",
        "outputId": "8afa0867-08f0-4749-972e-e4e77a8994a1",
        "colab": {
          "base_uri": "https://localhost:8080/",
          "height": 51
        }
      },
      "source": [
        "from keras.datasets import cifar10\n",
        "(train_features, train_labels), (test_features, test_labels) = cifar10.load_data()\n",
        "num_train, img_channels, img_rows, img_cols =  train_features.shape\n",
        "num_test, _, _, _ =  test_features.shape\n",
        "num_classes = len(np.unique(train_labels))"
      ],
      "execution_count": 0,
      "outputs": [
        {
          "output_type": "stream",
          "text": [
            "Downloading data from https://www.cs.toronto.edu/~kriz/cifar-10-python.tar.gz\n",
            "170500096/170498071 [==============================] - 6s 0us/step\n"
          ],
          "name": "stdout"
        }
      ]
    },
    {
      "cell_type": "markdown",
      "metadata": {
        "id": "6wOMPyOMKgYU",
        "colab_type": "text"
      },
      "source": [
        "##### Visualizing soe of the images of each class from the Dataset to get an idea"
      ]
    },
    {
      "cell_type": "code",
      "metadata": {
        "id": "QD3GG5CxJvJX",
        "colab_type": "code",
        "outputId": "fd74f542-9db0-44ce-8f34-5298024ecab7",
        "colab": {
          "base_uri": "https://localhost:8080/",
          "height": 213
        }
      },
      "source": [
        "class_names = ['airplane','automobile','bird','cat','deer',\n",
        "               'dog','frog','horse','ship','truck']\n",
        "fig = plt.figure(figsize=(8,3))\n",
        "for i in range(num_classes):\n",
        "    ax = fig.add_subplot(2, 5, 1 + i, xticks=[], yticks=[])\n",
        "    idx = np.where(train_labels[:]==i)[0]\n",
        "    features_idx = train_features[idx,::]\n",
        "    img_num = np.random.randint(features_idx.shape[0])\n",
        "    im = features_idx[img_num]\n",
        "    ax.set_title(class_names[i])\n",
        "    plt.imshow(im)\n",
        "plt.show()"
      ],
      "execution_count": 0,
      "outputs": [
        {
          "output_type": "display_data",
          "data": {
            "image/png": "[encoded data removed]",
            "text/plain": [
              "<Figure size 576x216 with 10 Axes>"
            ]
          },
          "metadata": {
            "tags": []
          }
        }
      ]
    },
    {
      "cell_type": "markdown",
      "metadata": {
        "id": "non6TIdoKzpO",
        "colab_type": "text"
      },
      "source": [
        "##### Utility function to plot model history"
      ]
    },
    {
      "cell_type": "code",
      "metadata": {
        "id": "xvf9X_kuJxks",
        "colab_type": "code",
        "colab": {}
      },
      "source": [
        "def plot_model_history(model_history):\n",
        "    fig, axs = plt.subplots(1,2,figsize=(15,5))\n",
        "    # summarize history for accuracy\n",
        "    axs[0].plot(range(1,len(model_history.history['acc'])+1),model_history.history['acc'])\n",
        "    axs[0].plot(range(1,len(model_history.history['val_acc'])+1),model_history.history['val_acc'])\n",
        "    axs[0].set_title('Model Accuracy')\n",
        "    axs[0].set_ylabel('Accuracy')\n",
        "    axs[0].set_xlabel('Epoch')\n",
        "    axs[0].set_xticks(np.arange(1,len(model_history.history['acc'])+1),len(model_history.history['acc'])/10)\n",
        "    axs[0].legend(['train', 'val'], loc='best')\n",
        "    # summarize history for loss\n",
        "    axs[1].plot(range(1,len(model_history.history['loss'])+1),model_history.history['loss'])\n",
        "    axs[1].plot(range(1,len(model_history.history['val_loss'])+1),model_history.history['val_loss'])\n",
        "    axs[1].set_title('Model Loss')\n",
        "    axs[1].set_ylabel('Loss')\n",
        "    axs[1].set_xlabel('Epoch')\n",
        "    axs[1].set_xticks(np.arange(1,len(model_history.history['loss'])+1),len(model_history.history['loss'])/10)\n",
        "    axs[1].legend(['train', 'val'], loc='best')\n",
        "    plt.show()"
      ],
      "execution_count": 0,
      "outputs": []
    },
    {
      "cell_type": "markdown",
      "metadata": {
        "id": "qKnOpV3kK3ig",
        "colab_type": "text"
      },
      "source": [
        "##### Utility function to calculate accuracy"
      ]
    },
    {
      "cell_type": "code",
      "metadata": {
        "id": "88rKMkyYKAGz",
        "colab_type": "code",
        "colab": {}
      },
      "source": [
        "def accuracy(test_x, test_y, model):\n",
        "    result = model.predict(test_x)\n",
        "    predicted_class = np.argmax(result, axis=1)\n",
        "    true_class = np.argmax(test_y, axis=1)\n",
        "    num_correct = np.sum(predicted_class == true_class) \n",
        "    accuracy = float(num_correct)/result.shape[0]\n",
        "    return (accuracy * 100)"
      ],
      "execution_count": 0,
      "outputs": []
    },
    {
      "cell_type": "code",
      "metadata": {
        "id": "03vlL658KCl_",
        "colab_type": "code",
        "colab": {}
      },
      "source": [
        "train_features = train_features.astype('float32')/255\n",
        "test_features = test_features.astype('float32')/255\n",
        "# convert class labels to binary class labels\n",
        "train_labels = np_utils.to_categorical(train_labels, num_classes)\n",
        "test_labels = np_utils.to_categorical(test_labels, num_classes)"
      ],
      "execution_count": 0,
      "outputs": []
    },
    {
      "cell_type": "code",
      "metadata": {
        "id": "hEXEOMZnKE8_",
        "colab_type": "code",
        "outputId": "35497f01-c4f0-4648-ffd4-5318322c38db",
        "colab": {
          "base_uri": "https://localhost:8080/",
          "height": 1000
        }
      },
      "source": [
        "# Building the network use keras functionla API\n",
        "\n",
        "input_img = Input(shape=(32, 32, 3))\n",
        "\n",
        "\n",
        "L1 = SeparableConv2D(16, kernel_size=(5, 5), padding ='same')(input_img) # output_channel_size - 32\n",
        "L1 = BatchNormalization()(L1)\n",
        "L1 = Activation('relu')(L1)\n",
        "\n",
        "L2 = Convolution2D(32, 5, 5, border_mode='same')(L1) # output_channel_size - 32\n",
        "L2 = BatchNormalization()(L2)\n",
        "L2 = Activation('relu')(L2)\n",
        "\n",
        "L3 = Convolution2D(64, 5, 5, border_mode='same')(L2) # output_channel_size - 32\n",
        "L3 = BatchNormalization()(L3)\n",
        "L3 = Activation('relu')(L3)\n",
        "\n",
        "L4 = SeparableConv2D(128, kernel_size=(5, 5), padding ='same')(L3) # output_channel_size - 32\n",
        "L4 = BatchNormalization()(L4)\n",
        "L4 = Activation('relu')(L4)\n",
        "\n",
        "M1 = MaxPooling2D(pool_size=(2, 2))(L4) # output_channel_size - 16\n",
        "M1 = Dropout(0.2)(M1)\n",
        "\n",
        "B1 = Convolution2D(16, 1, 1)(M1)\n",
        "B1 = BatchNormalization()(B1)\n",
        "B1 = Activation('relu')(B1)\n",
        "\n",
        "L5 = SeparableConv2D(16, kernel_size=(3, 3), padding ='same')(B1) # output_channel_size - 16\n",
        "L5 = BatchNormalization()(L5)\n",
        "L5 = Activation('relu')(L5)\n",
        "\n",
        "L6 = Convolution2D(32, 5, 5, border_mode='same')(L5) # output_channel_size - 16\n",
        "L6 = BatchNormalization()(L6)\n",
        "L6 = Activation('relu')(L6)\n",
        "\n",
        "L7 = SeparableConv2D(64, kernel_size=(3, 3), padding ='same')(L6) # output_channel_size - 16\n",
        "L7 = BatchNormalization()(L7)\n",
        "L7 = Activation('relu')(L7)\n",
        "\n",
        "L8 = SeparableConv2D(128, kernel_size=(5, 5), padding ='same')(L7) # output_channel_size - 16\n",
        "L8 = BatchNormalization()(L8)\n",
        "L8 = Activation('relu')(L8)\n",
        "\n",
        "# Skip Connection 1\n",
        "\n",
        "S1 = Lambda(lambda x: tf.space_to_depth(L4, block_size=2))(L4)\n",
        "S1 = concatenate([L8, S1], axis=-1)\n",
        "\n",
        "M2 = MaxPooling2D(pool_size=(2, 2))(S1) # output_channel_size - 8\n",
        "M2 = Dropout(0.2)(M2)\n",
        "\n",
        "B2 = Convolution2D(16, 1, 1)(M2)\n",
        "B2 = BatchNormalization()(B2)\n",
        "B2 = Activation('relu')(B2)\n",
        "\n",
        "L9 = Convolution2D(16, 5, 5, border_mode='same')(B2) # output_channel_size - 8\n",
        "L9 = BatchNormalization()(L9)\n",
        "L9 = Activation('relu')(L9)\n",
        "\n",
        "L10 = SeparableConv2D(32, kernel_size=(5, 5), padding ='same')(L9) # output_channel_size - 8\n",
        "L10 = BatchNormalization()(L10)\n",
        "L10 = Activation('relu')(L10)\n",
        "\n",
        "L11 = Convolution2D(64, 3, 3, border_mode='same')(L10) # output_channel_size - 8\n",
        "L11 = BatchNormalization()(L11)\n",
        "L11 = Activation('relu')(L11)\n",
        "\n",
        "L12 = SeparableConv2D(128, kernel_size=(5, 5))(L10) # output_channel_size - 4\n",
        "L12 = BatchNormalization()(L12)\n",
        "L12 = Activation('relu')(L12)\n",
        "\n",
        "# Skip Connection 2\n",
        "\n",
        "S2 = Lambda(lambda x: tf.space_to_depth(L8, block_size=4))(L8)\n",
        "S2 = concatenate([L12, S2], axis=-1)\n",
        "\n",
        "# Skip Connection 3\n",
        "\n",
        "S3 = Lambda(lambda x: tf.space_to_depth(L4, block_size=8))(L4)\n",
        "S3 = concatenate([S3, S2], axis=-1)\n",
        "\n",
        "B3 = Convolution2D(10, 1, 1)(S3)\n",
        "\n",
        "GAP = AveragePooling2D(pool_size = (4,4))(B3)\n",
        "F   = Flatten()(GAP)\n",
        "out = Activation('softmax')(F)\n",
        "\n",
        "model = Model(input_img, out)\n",
        "\n",
        "model.compile(optimizer='adam', loss='categorical_crossentropy', metrics=['accuracy'])\n",
        "\n",
        "model.summary()"
      ],
      "execution_count": 0,
      "outputs": [
        {
          "output_type": "stream",
          "text": [
            "WARNING:tensorflow:From /usr/local/lib/python3.6/dist-packages/keras/backend/tensorflow_backend.py:66: The name tf.get_default_graph is deprecated. Please use tf.compat.v1.get_default_graph instead.\n",
            "\n",
            "WARNING:tensorflow:From /usr/local/lib/python3.6/dist-packages/keras/backend/tensorflow_backend.py:541: The name tf.placeholder is deprecated. Please use tf.compat.v1.placeholder instead.\n",
            "\n",
            "WARNING:tensorflow:From /usr/local/lib/python3.6/dist-packages/keras/backend/tensorflow_backend.py:4432: The name tf.random_uniform is deprecated. Please use tf.random.uniform instead.\n",
            "\n",
            "WARNING:tensorflow:From /usr/local/lib/python3.6/dist-packages/keras/backend/tensorflow_backend.py:190: The name tf.get_default_session is deprecated. Please use tf.compat.v1.get_default_session instead.\n",
            "\n",
            "WARNING:tensorflow:From /usr/local/lib/python3.6/dist-packages/keras/backend/tensorflow_backend.py:197: The name tf.ConfigProto is deprecated. Please use tf.compat.v1.ConfigProto instead.\n",
            "\n",
            "WARNING:tensorflow:From /usr/local/lib/python3.6/dist-packages/keras/backend/tensorflow_backend.py:203: The name tf.Session is deprecated. Please use tf.compat.v1.Session instead.\n",
            "\n",
            "WARNING:tensorflow:From /usr/local/lib/python3.6/dist-packages/keras/backend/tensorflow_backend.py:207: The name tf.global_variables is deprecated. Please use tf.compat.v1.global_variables instead.\n",
            "\n",
            "WARNING:tensorflow:From /usr/local/lib/python3.6/dist-packages/keras/backend/tensorflow_backend.py:216: The name tf.is_variable_initialized is deprecated. Please use tf.compat.v1.is_variable_initialized instead.\n",
            "\n",
            "WARNING:tensorflow:From /usr/local/lib/python3.6/dist-packages/keras/backend/tensorflow_backend.py:223: The name tf.variables_initializer is deprecated. Please use tf.compat.v1.variables_initializer instead.\n",
            "\n",
            "WARNING:tensorflow:From /usr/local/lib/python3.6/dist-packages/keras/backend/tensorflow_backend.py:2041: The name tf.nn.fused_batch_norm is deprecated. Please use tf.compat.v1.nn.fused_batch_norm instead.\n",
            "\n",
            "WARNING:tensorflow:From /usr/local/lib/python3.6/dist-packages/keras/backend/tensorflow_backend.py:148: The name tf.placeholder_with_default is deprecated. Please use tf.compat.v1.placeholder_with_default instead.\n",
            "\n"
          ],
          "name": "stdout"
        },
        {
          "output_type": "stream",
          "text": [
            "/usr/local/lib/python3.6/dist-packages/ipykernel_launcher.py:9: UserWarning: Update your `Conv2D` call to the Keras 2 API: `Conv2D(32, (5, 5), padding=\"same\")`\n",
            "  if __name__ == '__main__':\n",
            "/usr/local/lib/python3.6/dist-packages/ipykernel_launcher.py:13: UserWarning: Update your `Conv2D` call to the Keras 2 API: `Conv2D(64, (5, 5), padding=\"same\")`\n",
            "  del sys.path[0]\n"
          ],
          "name": "stderr"
        },
        {
          "output_type": "stream",
          "text": [
            "WARNING:tensorflow:From /usr/local/lib/python3.6/dist-packages/keras/backend/tensorflow_backend.py:4267: The name tf.nn.max_pool is deprecated. Please use tf.nn.max_pool2d instead.\n",
            "\n",
            "WARNING:tensorflow:From /usr/local/lib/python3.6/dist-packages/keras/backend/tensorflow_backend.py:3733: calling dropout (from tensorflow.python.ops.nn_ops) with keep_prob is deprecated and will be removed in a future version.\n",
            "Instructions for updating:\n",
            "Please use `rate` instead of `keep_prob`. Rate should be set to `rate = 1 - keep_prob`.\n"
          ],
          "name": "stdout"
        },
        {
          "output_type": "stream",
          "text": [
            "/usr/local/lib/python3.6/dist-packages/ipykernel_launcher.py:24: UserWarning: Update your `Conv2D` call to the Keras 2 API: `Conv2D(16, (1, 1))`\n",
            "/usr/local/lib/python3.6/dist-packages/ipykernel_launcher.py:32: UserWarning: Update your `Conv2D` call to the Keras 2 API: `Conv2D(32, (5, 5), padding=\"same\")`\n",
            "/usr/local/lib/python3.6/dist-packages/ipykernel_launcher.py:52: UserWarning: Update your `Conv2D` call to the Keras 2 API: `Conv2D(16, (1, 1))`\n",
            "/usr/local/lib/python3.6/dist-packages/ipykernel_launcher.py:56: UserWarning: Update your `Conv2D` call to the Keras 2 API: `Conv2D(16, (5, 5), padding=\"same\")`\n"
          ],
          "name": "stderr"
        },
        {
          "output_type": "stream",
          "text": [
            "WARNING:tensorflow:From /usr/local/lib/python3.6/dist-packages/keras/backend/tensorflow_backend.py:4271: The name tf.nn.avg_pool is deprecated. Please use tf.nn.avg_pool2d instead.\n",
            "\n",
            "WARNING:tensorflow:From /usr/local/lib/python3.6/dist-packages/keras/optimizers.py:793: The name tf.train.Optimizer is deprecated. Please use tf.compat.v1.train.Optimizer instead.\n",
            "\n",
            "WARNING:tensorflow:From /usr/local/lib/python3.6/dist-packages/keras/backend/tensorflow_backend.py:3576: The name tf.log is deprecated. Please use tf.math.log instead.\n",
            "\n"
          ],
          "name": "stdout"
        },
        {
          "output_type": "stream",
          "text": [
            "/usr/local/lib/python3.6/dist-packages/ipykernel_launcher.py:64: UserWarning: Update your `Conv2D` call to the Keras 2 API: `Conv2D(64, (3, 3), padding=\"same\")`\n",
            "/usr/local/lib/python3.6/dist-packages/ipykernel_launcher.py:82: UserWarning: Update your `Conv2D` call to the Keras 2 API: `Conv2D(10, (1, 1))`\n"
          ],
          "name": "stderr"
        },
        {
          "output_type": "stream",
          "text": [
            "Model: \"model_1\"\n",
            "__________________________________________________________________________________________________\n",
            "Layer (type)                    Output Shape         Param #     Connected to                     \n",
            "==================================================================================================\n",
            "input_1 (InputLayer)            (None, 32, 32, 3)    0                                            \n",
            "__________________________________________________________________________________________________\n",
            "separable_conv2d_1 (SeparableCo (None, 32, 32, 16)   139         input_1[0][0]                    \n",
            "__________________________________________________________________________________________________\n",
            "batch_normalization_1 (BatchNor (None, 32, 32, 16)   64          separable_conv2d_1[0][0]         \n",
            "__________________________________________________________________________________________________\n",
            "activation_1 (Activation)       (None, 32, 32, 16)   0           batch_normalization_1[0][0]      \n",
            "__________________________________________________________________________________________________\n",
            "conv2d_1 (Conv2D)               (None, 32, 32, 32)   12832       activation_1[0][0]               \n",
            "__________________________________________________________________________________________________\n",
            "batch_normalization_2 (BatchNor (None, 32, 32, 32)   128         conv2d_1[0][0]                   \n",
            "__________________________________________________________________________________________________\n",
            "activation_2 (Activation)       (None, 32, 32, 32)   0           batch_normalization_2[0][0]      \n",
            "__________________________________________________________________________________________________\n",
            "conv2d_2 (Conv2D)               (None, 32, 32, 64)   51264       activation_2[0][0]               \n",
            "__________________________________________________________________________________________________\n",
            "batch_normalization_3 (BatchNor (None, 32, 32, 64)   256         conv2d_2[0][0]                   \n",
            "__________________________________________________________________________________________________\n",
            "activation_3 (Activation)       (None, 32, 32, 64)   0           batch_normalization_3[0][0]      \n",
            "__________________________________________________________________________________________________\n",
            "separable_conv2d_2 (SeparableCo (None, 32, 32, 128)  9920        activation_3[0][0]               \n",
            "__________________________________________________________________________________________________\n",
            "batch_normalization_4 (BatchNor (None, 32, 32, 128)  512         separable_conv2d_2[0][0]         \n",
            "__________________________________________________________________________________________________\n",
            "activation_4 (Activation)       (None, 32, 32, 128)  0           batch_normalization_4[0][0]      \n",
            "__________________________________________________________________________________________________\n",
            "max_pooling2d_1 (MaxPooling2D)  (None, 16, 16, 128)  0           activation_4[0][0]               \n",
            "__________________________________________________________________________________________________\n",
            "dropout_1 (Dropout)             (None, 16, 16, 128)  0           max_pooling2d_1[0][0]            \n",
            "__________________________________________________________________________________________________\n",
            "conv2d_3 (Conv2D)               (None, 16, 16, 16)   2064        dropout_1[0][0]                  \n",
            "__________________________________________________________________________________________________\n",
            "batch_normalization_5 (BatchNor (None, 16, 16, 16)   64          conv2d_3[0][0]                   \n",
            "__________________________________________________________________________________________________\n",
            "activation_5 (Activation)       (None, 16, 16, 16)   0           batch_normalization_5[0][0]      \n",
            "__________________________________________________________________________________________________\n",
            "separable_conv2d_3 (SeparableCo (None, 16, 16, 16)   416         activation_5[0][0]               \n",
            "__________________________________________________________________________________________________\n",
            "batch_normalization_6 (BatchNor (None, 16, 16, 16)   64          separable_conv2d_3[0][0]         \n",
            "__________________________________________________________________________________________________\n",
            "activation_6 (Activation)       (None, 16, 16, 16)   0           batch_normalization_6[0][0]      \n",
            "__________________________________________________________________________________________________\n",
            "conv2d_4 (Conv2D)               (None, 16, 16, 32)   12832       activation_6[0][0]               \n",
            "__________________________________________________________________________________________________\n",
            "batch_normalization_7 (BatchNor (None, 16, 16, 32)   128         conv2d_4[0][0]                   \n",
            "__________________________________________________________________________________________________\n",
            "activation_7 (Activation)       (None, 16, 16, 32)   0           batch_normalization_7[0][0]      \n",
            "__________________________________________________________________________________________________\n",
            "separable_conv2d_4 (SeparableCo (None, 16, 16, 64)   2400        activation_7[0][0]               \n",
            "__________________________________________________________________________________________________\n",
            "batch_normalization_8 (BatchNor (None, 16, 16, 64)   256         separable_conv2d_4[0][0]         \n",
            "__________________________________________________________________________________________________\n",
            "activation_8 (Activation)       (None, 16, 16, 64)   0           batch_normalization_8[0][0]      \n",
            "__________________________________________________________________________________________________\n",
            "separable_conv2d_5 (SeparableCo (None, 16, 16, 128)  9920        activation_8[0][0]               \n",
            "__________________________________________________________________________________________________\n",
            "batch_normalization_9 (BatchNor (None, 16, 16, 128)  512         separable_conv2d_5[0][0]         \n",
            "__________________________________________________________________________________________________\n",
            "activation_9 (Activation)       (None, 16, 16, 128)  0           batch_normalization_9[0][0]      \n",
            "__________________________________________________________________________________________________\n",
            "lambda_1 (Lambda)               (None, 16, 16, 512)  0           activation_4[0][0]               \n",
            "__________________________________________________________________________________________________\n",
            "concatenate_1 (Concatenate)     (None, 16, 16, 640)  0           activation_9[0][0]               \n",
            "                                                                 lambda_1[0][0]                   \n",
            "__________________________________________________________________________________________________\n",
            "max_pooling2d_2 (MaxPooling2D)  (None, 8, 8, 640)    0           concatenate_1[0][0]              \n",
            "__________________________________________________________________________________________________\n",
            "dropout_2 (Dropout)             (None, 8, 8, 640)    0           max_pooling2d_2[0][0]            \n",
            "__________________________________________________________________________________________________\n",
            "conv2d_5 (Conv2D)               (None, 8, 8, 16)     10256       dropout_2[0][0]                  \n",
            "__________________________________________________________________________________________________\n",
            "batch_normalization_10 (BatchNo (None, 8, 8, 16)     64          conv2d_5[0][0]                   \n",
            "__________________________________________________________________________________________________\n",
            "activation_10 (Activation)      (None, 8, 8, 16)     0           batch_normalization_10[0][0]     \n",
            "__________________________________________________________________________________________________\n",
            "conv2d_6 (Conv2D)               (None, 8, 8, 16)     6416        activation_10[0][0]              \n",
            "__________________________________________________________________________________________________\n",
            "batch_normalization_11 (BatchNo (None, 8, 8, 16)     64          conv2d_6[0][0]                   \n",
            "__________________________________________________________________________________________________\n",
            "activation_11 (Activation)      (None, 8, 8, 16)     0           batch_normalization_11[0][0]     \n",
            "__________________________________________________________________________________________________\n",
            "separable_conv2d_6 (SeparableCo (None, 8, 8, 32)     944         activation_11[0][0]              \n",
            "__________________________________________________________________________________________________\n",
            "batch_normalization_12 (BatchNo (None, 8, 8, 32)     128         separable_conv2d_6[0][0]         \n",
            "__________________________________________________________________________________________________\n",
            "activation_12 (Activation)      (None, 8, 8, 32)     0           batch_normalization_12[0][0]     \n",
            "__________________________________________________________________________________________________\n",
            "separable_conv2d_7 (SeparableCo (None, 4, 4, 128)    5024        activation_12[0][0]              \n",
            "__________________________________________________________________________________________________\n",
            "batch_normalization_14 (BatchNo (None, 4, 4, 128)    512         separable_conv2d_7[0][0]         \n",
            "__________________________________________________________________________________________________\n",
            "activation_14 (Activation)      (None, 4, 4, 128)    0           batch_normalization_14[0][0]     \n",
            "__________________________________________________________________________________________________\n",
            "lambda_2 (Lambda)               (None, 4, 4, 2048)   0           activation_9[0][0]               \n",
            "__________________________________________________________________________________________________\n",
            "lambda_3 (Lambda)               (None, 4, 4, 8192)   0           activation_4[0][0]               \n",
            "__________________________________________________________________________________________________\n",
            "concatenate_2 (Concatenate)     (None, 4, 4, 2176)   0           activation_14[0][0]              \n",
            "                                                                 lambda_2[0][0]                   \n",
            "__________________________________________________________________________________________________\n",
            "concatenate_3 (Concatenate)     (None, 4, 4, 10368)  0           lambda_3[0][0]                   \n",
            "                                                                 concatenate_2[0][0]              \n",
            "__________________________________________________________________________________________________\n",
            "conv2d_8 (Conv2D)               (None, 4, 4, 10)     103690      concatenate_3[0][0]              \n",
            "__________________________________________________________________________________________________\n",
            "average_pooling2d_1 (AveragePoo (None, 1, 1, 10)     0           conv2d_8[0][0]                   \n",
            "__________________________________________________________________________________________________\n",
            "flatten_1 (Flatten)             (None, 10)           0           average_pooling2d_1[0][0]        \n",
            "__________________________________________________________________________________________________\n",
            "activation_15 (Activation)      (None, 10)           0           flatten_1[0][0]                  \n",
            "==================================================================================================\n",
            "Total params: 230,869\n",
            "Trainable params: 229,493\n",
            "Non-trainable params: 1,376\n",
            "__________________________________________________________________________________________________\n"
          ],
          "name": "stdout"
        }
      ]
    },
    {
      "cell_type": "code",
      "metadata": {
        "id": "gjTb-f2hLE_8",
        "colab_type": "code",
        "outputId": "8d4a7d54-7c28-4363-ea51-8105e3ca2839",
        "colab": {
          "base_uri": "https://localhost:8080/",
          "height": 1000
        }
      },
      "source": [
        "datagen = ImageDataGenerator(zoom_range=0.0, \n",
        "                             horizontal_flip=False)  \n",
        "\n",
        "\n",
        "# train the model\n",
        "start = time.time()\n",
        "# Train the model\n",
        "model_info = model.fit_generator(datagen.flow(train_features, train_labels, batch_size = 128),\n",
        "                                 samples_per_epoch = train_features.shape[0], nb_epoch = 100, \n",
        "                                 validation_data = (test_features, test_labels), verbose=1)\n",
        "end = time.time()\n",
        "print (\"Model took %0.2f seconds to train\"%(end - start))\n",
        "# plot model history\n",
        "plot_model_history(model_info)\n",
        "# compute test accuracy\n",
        "print (\"Accuracy on test data is: %0.2f\"%accuracy(test_features, test_labels, model))"
      ],
      "execution_count": 0,
      "outputs": [
        {
          "output_type": "stream",
          "text": [
            "WARNING:tensorflow:From /usr/local/lib/python3.6/dist-packages/tensorflow_core/python/ops/math_grad.py:1424: where (from tensorflow.python.ops.array_ops) is deprecated and will be removed in a future version.\n",
            "Instructions for updating:\n",
            "Use tf.where in 2.0, which has the same broadcast rule as np.where\n"
          ],
          "name": "stdout"
        },
        {
          "output_type": "stream",
          "text": [
            "/usr/local/lib/python3.6/dist-packages/ipykernel_launcher.py:10: UserWarning: The semantics of the Keras 2 argument `steps_per_epoch` is not the same as the Keras 1 argument `samples_per_epoch`. `steps_per_epoch` is the number of batches to draw from the generator at each epoch. Basically steps_per_epoch = samples_per_epoch/batch_size. Similarly `nb_val_samples`->`validation_steps` and `val_samples`->`steps` arguments have changed. Update your method calls accordingly.\n",
            "  # Remove the CWD from sys.path while we load stuff.\n",
            "/usr/local/lib/python3.6/dist-packages/ipykernel_launcher.py:10: UserWarning: Update your `fit_generator` call to the Keras 2 API: `fit_generator(<keras_pre..., validation_data=(array([[[..., verbose=1, steps_per_epoch=390, epochs=100)`\n",
            "  # Remove the CWD from sys.path while we load stuff.\n"
          ],
          "name": "stderr"
        },
        {
          "output_type": "stream",
          "text": [
            "WARNING:tensorflow:From /usr/local/lib/python3.6/dist-packages/keras/backend/tensorflow_backend.py:1033: The name tf.assign_add is deprecated. Please use tf.compat.v1.assign_add instead.\n",
            "\n",
            "WARNING:tensorflow:From /usr/local/lib/python3.6/dist-packages/keras/backend/tensorflow_backend.py:1020: The name tf.assign is deprecated. Please use tf.compat.v1.assign instead.\n",
            "\n",
            "Epoch 1/100\n",
            "390/390 [==============================] - 27s 68ms/step - loss: 1.5637 - acc: 0.4387 - val_loss: 1.6020 - val_acc: 0.4480\n",
            "Epoch 2/100\n",
            "390/390 [==============================] - 20s 50ms/step - loss: 1.1432 - acc: 0.5919 - val_loss: 1.5575 - val_acc: 0.4921\n",
            "Epoch 3/100\n",
            "390/390 [==============================] - 20s 50ms/step - loss: 0.9417 - acc: 0.6686 - val_loss: 1.1368 - val_acc: 0.6294\n",
            "Epoch 4/100\n",
            "390/390 [==============================] - 20s 50ms/step - loss: 0.8301 - acc: 0.7091 - val_loss: 1.3533 - val_acc: 0.5666\n",
            "Epoch 5/100\n",
            "390/390 [==============================] - 20s 50ms/step - loss: 0.7490 - acc: 0.7380 - val_loss: 0.9392 - val_acc: 0.6839\n",
            "Epoch 6/100\n",
            "390/390 [==============================] - 19s 50ms/step - loss: 0.6836 - acc: 0.7620 - val_loss: 0.9300 - val_acc: 0.6872\n",
            "Epoch 7/100\n",
            "390/390 [==============================] - 19s 50ms/step - loss: 0.6257 - acc: 0.7823 - val_loss: 2.2812 - val_acc: 0.4959\n",
            "Epoch 8/100\n",
            "390/390 [==============================] - 19s 50ms/step - loss: 0.5801 - acc: 0.7984 - val_loss: 1.3756 - val_acc: 0.6061\n",
            "Epoch 9/100\n",
            "390/390 [==============================] - 19s 49ms/step - loss: 0.5471 - acc: 0.8093 - val_loss: 0.9637 - val_acc: 0.6978\n",
            "Epoch 10/100\n",
            "390/390 [==============================] - 20s 50ms/step - loss: 0.5063 - acc: 0.8222 - val_loss: 0.9303 - val_acc: 0.7059\n",
            "Epoch 11/100\n",
            "390/390 [==============================] - 19s 50ms/step - loss: 0.4859 - acc: 0.8293 - val_loss: 0.7149 - val_acc: 0.7681\n",
            "Epoch 12/100\n",
            "390/390 [==============================] - 19s 50ms/step - loss: 0.4557 - acc: 0.8415 - val_loss: 1.2196 - val_acc: 0.6655\n",
            "Epoch 13/100\n",
            "390/390 [==============================] - 19s 50ms/step - loss: 0.4285 - acc: 0.8500 - val_loss: 0.8317 - val_acc: 0.7326\n",
            "Epoch 14/100\n",
            "390/390 [==============================] - 19s 50ms/step - loss: 0.4095 - acc: 0.8571 - val_loss: 1.0593 - val_acc: 0.7115\n",
            "Epoch 15/100\n",
            "390/390 [==============================] - 19s 50ms/step - loss: 0.3867 - acc: 0.8660 - val_loss: 0.9873 - val_acc: 0.7010\n",
            "Epoch 16/100\n",
            "390/390 [==============================] - 19s 49ms/step - loss: 0.3622 - acc: 0.8739 - val_loss: 0.8660 - val_acc: 0.7484\n",
            "Epoch 17/100\n",
            "390/390 [==============================] - 19s 50ms/step - loss: 0.3412 - acc: 0.8803 - val_loss: 0.7855 - val_acc: 0.7627\n",
            "Epoch 18/100\n",
            "390/390 [==============================] - 19s 50ms/step - loss: 0.3167 - acc: 0.8887 - val_loss: 0.8380 - val_acc: 0.7494\n",
            "Epoch 19/100\n",
            "390/390 [==============================] - 19s 50ms/step - loss: 0.3064 - acc: 0.8918 - val_loss: 0.7961 - val_acc: 0.7714\n",
            "Epoch 20/100\n",
            "390/390 [==============================] - 19s 50ms/step - loss: 0.2871 - acc: 0.8994 - val_loss: 1.2250 - val_acc: 0.6965\n",
            "Epoch 21/100\n",
            "390/390 [==============================] - 19s 49ms/step - loss: 0.2674 - acc: 0.9058 - val_loss: 0.9224 - val_acc: 0.7602\n",
            "Epoch 22/100\n",
            "390/390 [==============================] - 19s 50ms/step - loss: 0.2641 - acc: 0.9061 - val_loss: 1.0339 - val_acc: 0.7366\n",
            "Epoch 23/100\n",
            "390/390 [==============================] - 19s 50ms/step - loss: 0.2536 - acc: 0.9094 - val_loss: 0.9811 - val_acc: 0.7520\n",
            "Epoch 24/100\n",
            "390/390 [==============================] - 19s 50ms/step - loss: 0.2359 - acc: 0.9174 - val_loss: 0.9679 - val_acc: 0.7623\n",
            "Epoch 25/100\n",
            "390/390 [==============================] - 19s 50ms/step - loss: 0.2192 - acc: 0.9225 - val_loss: 0.9995 - val_acc: 0.7455\n",
            "Epoch 26/100\n",
            "390/390 [==============================] - 19s 50ms/step - loss: 0.2176 - acc: 0.9217 - val_loss: 0.8704 - val_acc: 0.7707\n",
            "Epoch 27/100\n",
            "390/390 [==============================] - 19s 49ms/step - loss: 0.1985 - acc: 0.9300 - val_loss: 1.1532 - val_acc: 0.7311\n",
            "Epoch 28/100\n",
            "390/390 [==============================] - 19s 50ms/step - loss: 0.1966 - acc: 0.9296 - val_loss: 0.7914 - val_acc: 0.7740\n",
            "Epoch 29/100\n",
            "390/390 [==============================] - 19s 50ms/step - loss: 0.1807 - acc: 0.9358 - val_loss: 0.8274 - val_acc: 0.7826\n",
            "Epoch 30/100\n",
            "390/390 [==============================] - 19s 50ms/step - loss: 0.1807 - acc: 0.9364 - val_loss: 0.8692 - val_acc: 0.7796\n",
            "Epoch 31/100\n",
            "390/390 [==============================] - 19s 50ms/step - loss: 0.1696 - acc: 0.9400 - val_loss: 1.0532 - val_acc: 0.7413\n",
            "Epoch 32/100\n",
            "390/390 [==============================] - 19s 50ms/step - loss: 0.1578 - acc: 0.9446 - val_loss: 1.1082 - val_acc: 0.7376\n",
            "Epoch 33/100\n",
            "390/390 [==============================] - 19s 50ms/step - loss: 0.1489 - acc: 0.9475 - val_loss: 0.8933 - val_acc: 0.7707\n",
            "Epoch 34/100\n",
            "390/390 [==============================] - 19s 50ms/step - loss: 0.1487 - acc: 0.9472 - val_loss: 1.0082 - val_acc: 0.7742\n",
            "Epoch 35/100\n",
            "390/390 [==============================] - 19s 50ms/step - loss: 0.1408 - acc: 0.9499 - val_loss: 0.9245 - val_acc: 0.7696\n",
            "Epoch 36/100\n",
            "390/390 [==============================] - 19s 50ms/step - loss: 0.1349 - acc: 0.9524 - val_loss: 1.0352 - val_acc: 0.7646\n",
            "Epoch 37/100\n",
            "390/390 [==============================] - 19s 49ms/step - loss: 0.1286 - acc: 0.9547 - val_loss: 0.9778 - val_acc: 0.7788\n",
            "Epoch 38/100\n",
            "390/390 [==============================] - 19s 50ms/step - loss: 0.1149 - acc: 0.9599 - val_loss: 0.8877 - val_acc: 0.7815\n",
            "Epoch 39/100\n",
            "390/390 [==============================] - 19s 50ms/step - loss: 0.1136 - acc: 0.9609 - val_loss: 1.1469 - val_acc: 0.7513\n",
            "Epoch 40/100\n",
            "390/390 [==============================] - 19s 50ms/step - loss: 0.1202 - acc: 0.9568 - val_loss: 1.1427 - val_acc: 0.7536\n",
            "Epoch 41/100\n",
            "390/390 [==============================] - 19s 50ms/step - loss: 0.1107 - acc: 0.9614 - val_loss: 1.0345 - val_acc: 0.7774\n",
            "Epoch 42/100\n",
            "390/390 [==============================] - 19s 49ms/step - loss: 0.1049 - acc: 0.9633 - val_loss: 0.8811 - val_acc: 0.7902\n",
            "Epoch 43/100\n",
            "390/390 [==============================] - 19s 50ms/step - loss: 0.1046 - acc: 0.9632 - val_loss: 0.9600 - val_acc: 0.7684\n",
            "Epoch 44/100\n",
            "390/390 [==============================] - 19s 50ms/step - loss: 0.1060 - acc: 0.9631 - val_loss: 0.9558 - val_acc: 0.7793\n",
            "Epoch 45/100\n",
            "390/390 [==============================] - 19s 49ms/step - loss: 0.0942 - acc: 0.9671 - val_loss: 1.0792 - val_acc: 0.7759\n",
            "Epoch 46/100\n",
            "390/390 [==============================] - 19s 50ms/step - loss: 0.0886 - acc: 0.9690 - val_loss: 1.0006 - val_acc: 0.7838\n",
            "Epoch 47/100\n",
            "390/390 [==============================] - 19s 50ms/step - loss: 0.0909 - acc: 0.9676 - val_loss: 1.1998 - val_acc: 0.7487\n",
            "Epoch 48/100\n",
            "390/390 [==============================] - 19s 49ms/step - loss: 0.0851 - acc: 0.9701 - val_loss: 0.9982 - val_acc: 0.7653\n",
            "Epoch 49/100\n",
            "390/390 [==============================] - 19s 50ms/step - loss: 0.0940 - acc: 0.9667 - val_loss: 1.2610 - val_acc: 0.7510\n",
            "Epoch 50/100\n",
            "390/390 [==============================] - 19s 49ms/step - loss: 0.0869 - acc: 0.9703 - val_loss: 0.8792 - val_acc: 0.7958\n",
            "Epoch 51/100\n",
            "390/390 [==============================] - 19s 50ms/step - loss: 0.0775 - acc: 0.9736 - val_loss: 1.0997 - val_acc: 0.7711\n",
            "Epoch 52/100\n",
            "390/390 [==============================] - 19s 50ms/step - loss: 0.0752 - acc: 0.9743 - val_loss: 1.1139 - val_acc: 0.7763\n",
            "Epoch 53/100\n",
            "390/390 [==============================] - 19s 50ms/step - loss: 0.0762 - acc: 0.9732 - val_loss: 1.0200 - val_acc: 0.7871\n",
            "Epoch 54/100\n",
            "390/390 [==============================] - 19s 50ms/step - loss: 0.0734 - acc: 0.9736 - val_loss: 1.0038 - val_acc: 0.7872\n",
            "Epoch 55/100\n",
            "390/390 [==============================] - 19s 50ms/step - loss: 0.0736 - acc: 0.9749 - val_loss: 0.9210 - val_acc: 0.7937\n",
            "Epoch 56/100\n",
            "390/390 [==============================] - 19s 50ms/step - loss: 0.0791 - acc: 0.9723 - val_loss: 0.9988 - val_acc: 0.7855\n",
            "Epoch 57/100\n",
            "390/390 [==============================] - 19s 49ms/step - loss: 0.0642 - acc: 0.9784 - val_loss: 1.0743 - val_acc: 0.7822\n",
            "Epoch 58/100\n",
            "390/390 [==============================] - 19s 50ms/step - loss: 0.0644 - acc: 0.9776 - val_loss: 0.9947 - val_acc: 0.7910\n",
            "Epoch 59/100\n",
            "390/390 [==============================] - 19s 50ms/step - loss: 0.0695 - acc: 0.9756 - val_loss: 0.9808 - val_acc: 0.7962\n",
            "Epoch 60/100\n",
            "390/390 [==============================] - 19s 50ms/step - loss: 0.0609 - acc: 0.9792 - val_loss: 0.9829 - val_acc: 0.7938\n",
            "Epoch 61/100\n",
            "390/390 [==============================] - 19s 50ms/step - loss: 0.0570 - acc: 0.9812 - val_loss: 1.0856 - val_acc: 0.7882\n",
            "Epoch 62/100\n",
            "390/390 [==============================] - 19s 50ms/step - loss: 0.0567 - acc: 0.9819 - val_loss: 1.1299 - val_acc: 0.7748\n",
            "Epoch 63/100\n",
            "390/390 [==============================] - 19s 50ms/step - loss: 0.0557 - acc: 0.9816 - val_loss: 1.0022 - val_acc: 0.7978\n",
            "Epoch 64/100\n",
            "390/390 [==============================] - 19s 50ms/step - loss: 0.0554 - acc: 0.9817 - val_loss: 1.1380 - val_acc: 0.7769\n",
            "Epoch 65/100\n",
            "390/390 [==============================] - 19s 50ms/step - loss: 0.0657 - acc: 0.9768 - val_loss: 1.0716 - val_acc: 0.7875\n",
            "Epoch 66/100\n",
            "390/390 [==============================] - 19s 49ms/step - loss: 0.0563 - acc: 0.9807 - val_loss: 1.0476 - val_acc: 0.7936\n",
            "Epoch 67/100\n",
            "390/390 [==============================] - 19s 50ms/step - loss: 0.0570 - acc: 0.9807 - val_loss: 1.0032 - val_acc: 0.7994\n",
            "Epoch 68/100\n",
            "390/390 [==============================] - 19s 50ms/step - loss: 0.0534 - acc: 0.9821 - val_loss: 1.3180 - val_acc: 0.7542\n",
            "Epoch 69/100\n",
            "390/390 [==============================] - 19s 50ms/step - loss: 0.0537 - acc: 0.9819 - val_loss: 1.0205 - val_acc: 0.7912\n",
            "Epoch 70/100\n",
            "390/390 [==============================] - 19s 50ms/step - loss: 0.0468 - acc: 0.9852 - val_loss: 1.3888 - val_acc: 0.7585\n",
            "Epoch 71/100\n",
            "390/390 [==============================] - 19s 49ms/step - loss: 0.0492 - acc: 0.9835 - val_loss: 1.1986 - val_acc: 0.7754\n",
            "Epoch 72/100\n",
            "390/390 [==============================] - 19s 50ms/step - loss: 0.0548 - acc: 0.9809 - val_loss: 1.0859 - val_acc: 0.7879\n",
            "Epoch 73/100\n",
            "390/390 [==============================] - 19s 49ms/step - loss: 0.0528 - acc: 0.9818 - val_loss: 1.1934 - val_acc: 0.7741\n",
            "Epoch 74/100\n",
            "390/390 [==============================] - 19s 50ms/step - loss: 0.0494 - acc: 0.9833 - val_loss: 1.1868 - val_acc: 0.7707\n",
            "Epoch 75/100\n",
            "390/390 [==============================] - 19s 50ms/step - loss: 0.0506 - acc: 0.9831 - val_loss: 1.1616 - val_acc: 0.7705\n",
            "Epoch 76/100\n",
            "390/390 [==============================] - 19s 50ms/step - loss: 0.0455 - acc: 0.9846 - val_loss: 1.2888 - val_acc: 0.7703\n",
            "Epoch 77/100\n",
            "390/390 [==============================] - 19s 50ms/step - loss: 0.0438 - acc: 0.9854 - val_loss: 1.0773 - val_acc: 0.7946\n",
            "Epoch 78/100\n",
            "390/390 [==============================] - 19s 50ms/step - loss: 0.0474 - acc: 0.9843 - val_loss: 1.1960 - val_acc: 0.7819\n",
            "Epoch 79/100\n",
            "390/390 [==============================] - 19s 50ms/step - loss: 0.0459 - acc: 0.9848 - val_loss: 1.0294 - val_acc: 0.7983\n",
            "Epoch 80/100\n",
            "390/390 [==============================] - 19s 50ms/step - loss: 0.0436 - acc: 0.9855 - val_loss: 1.2571 - val_acc: 0.7731\n",
            "Epoch 81/100\n",
            "390/390 [==============================] - 19s 49ms/step - loss: 0.0442 - acc: 0.9843 - val_loss: 1.0435 - val_acc: 0.8051\n",
            "Epoch 82/100\n",
            "390/390 [==============================] - 19s 50ms/step - loss: 0.0352 - acc: 0.9886 - val_loss: 1.5017 - val_acc: 0.7380\n",
            "Epoch 83/100\n",
            "390/390 [==============================] - 19s 50ms/step - loss: 0.0368 - acc: 0.9881 - val_loss: 1.1311 - val_acc: 0.7801\n",
            "Epoch 84/100\n",
            "390/390 [==============================] - 20s 50ms/step - loss: 0.0486 - acc: 0.9831 - val_loss: 1.2691 - val_acc: 0.7706\n",
            "Epoch 85/100\n",
            "390/390 [==============================] - 19s 50ms/step - loss: 0.0382 - acc: 0.9878 - val_loss: 1.1105 - val_acc: 0.7968\n",
            "Epoch 86/100\n",
            "390/390 [==============================] - 19s 50ms/step - loss: 0.0406 - acc: 0.9862 - val_loss: 1.1226 - val_acc: 0.7979\n",
            "Epoch 87/100\n",
            "390/390 [==============================] - 19s 50ms/step - loss: 0.0414 - acc: 0.9860 - val_loss: 1.2321 - val_acc: 0.7825\n",
            "Epoch 88/100\n",
            "390/390 [==============================] - 19s 49ms/step - loss: 0.0401 - acc: 0.9862 - val_loss: 1.0915 - val_acc: 0.7899\n",
            "Epoch 89/100\n",
            "390/390 [==============================] - 19s 50ms/step - loss: 0.0314 - acc: 0.9898 - val_loss: 1.1090 - val_acc: 0.7888\n",
            "Epoch 90/100\n",
            "390/390 [==============================] - 19s 50ms/step - loss: 0.0362 - acc: 0.9879 - val_loss: 1.0870 - val_acc: 0.7949\n",
            "Epoch 91/100\n",
            "390/390 [==============================] - 19s 50ms/step - loss: 0.0388 - acc: 0.9871 - val_loss: 1.1868 - val_acc: 0.7744\n",
            "Epoch 92/100\n",
            "390/390 [==============================] - 19s 50ms/step - loss: 0.0328 - acc: 0.9892 - val_loss: 1.0623 - val_acc: 0.7986\n",
            "Epoch 93/100\n",
            "390/390 [==============================] - 19s 50ms/step - loss: 0.0352 - acc: 0.9884 - val_loss: 1.2019 - val_acc: 0.7806\n",
            "Epoch 94/100\n",
            "390/390 [==============================] - 19s 50ms/step - loss: 0.0356 - acc: 0.9883 - val_loss: 1.1073 - val_acc: 0.7846\n",
            "Epoch 95/100\n",
            "390/390 [==============================] - 19s 50ms/step - loss: 0.0371 - acc: 0.9877 - val_loss: 1.0432 - val_acc: 0.7966\n",
            "Epoch 96/100\n",
            "390/390 [==============================] - 19s 50ms/step - loss: 0.0249 - acc: 0.9927 - val_loss: 1.2776 - val_acc: 0.7819\n",
            "Epoch 97/100\n",
            "390/390 [==============================] - 19s 50ms/step - loss: 0.0328 - acc: 0.9891 - val_loss: 1.1694 - val_acc: 0.7864\n",
            "Epoch 98/100\n",
            "390/390 [==============================] - 19s 49ms/step - loss: 0.0331 - acc: 0.9892 - val_loss: 1.0724 - val_acc: 0.7995\n",
            "Epoch 99/100\n",
            "390/390 [==============================] - 19s 50ms/step - loss: 0.0378 - acc: 0.9872 - val_loss: 1.1796 - val_acc: 0.7943\n",
            "Epoch 100/100\n",
            "390/390 [==============================] - 19s 50ms/step - loss: 0.0349 - acc: 0.9882 - val_loss: 1.0401 - val_acc: 0.8028\n",
            "Model took 1946.40 seconds to train\n"
          ],
          "name": "stdout"
        },
        {
          "output_type": "display_data",
          "data": {
            "image/png": "[encoded data removed]",
            "text/plain": [
              "<Figure size 1080x360 with 2 Axes>"
            ]
          },
          "metadata": {
            "tags": []
          }
        },
        {
          "output_type": "stream",
          "text": [
            "Accuracy on test data is: 80.28\n"
          ],
          "name": "stdout"
        }
      ]
    },
    {
      "cell_type": "markdown",
      "metadata": {
        "id": "gmJsiFWDSLCg",
        "colab_type": "text"
      },
      "source": [
        "#### Without any further optimization the model is able to train to an accuracy of 80.28%. Hence the implementation of functional api in keras is understood."
      ]
    }
  ]
}