{
  "nbformat": 4,
  "nbformat_minor": 0,
  "metadata": {
    "colab": {
      "name": "1st DNN.ipynb",
      "version": "0.3.2",
      "provenance": [],
      "collapsed_sections": [],
      "include_colab_link": true
    },
    "kernelspec": {
      "name": "python3",
      "display_name": "Python 3"
    },
    "accelerator": "GPU"
  },
  "cells": [
    {
      "cell_type": "markdown",
      "metadata": {
        "id": "view-in-github",
        "colab_type": "text"
      },
      "source": [
        "<a href=\"https://colab.research.google.com/github/sarvan0506/AI/blob/Dev/Project%205/DNN_Optimizedv2.ipynb\" target=\"_parent\"><img src=\"https://colab.research.google.com/assets/colab-badge.svg\" alt=\"Open In Colab\"/></a>"
      ]
    },
    {
      "cell_type": "markdown",
      "metadata": {
        "id": "aNyZv-Ec52ot",
        "colab_type": "text"
      },
      "source": [
        "# **Import Libraries and modules**"
      ]
    },
    {
      "cell_type": "code",
      "metadata": {
        "id": "3m3w1Cw49Zkt",
        "colab_type": "code",
        "colab": {
          "base_uri": "https://localhost:8080/",
          "height": 34
        },
        "outputId": "7fc5bf71-9f61-494a-b19d-44ac89cbfbae"
      },
      "source": [
        "# https://keras.io/\n",
        "!pip install -q keras\n",
        "import keras\n",
        "\n",
        "# install and import keras for neural network design and implementation"
      ],
      "execution_count": 1,
      "outputs": [
        {
          "output_type": "stream",
          "text": [
            "Using TensorFlow backend.\n"
          ],
          "name": "stderr"
        }
      ]
    },
    {
      "cell_type": "code",
      "metadata": {
        "id": "Eso6UHE080D4",
        "colab_type": "code",
        "colab": {}
      },
      "source": [
        "import numpy as np\n",
        "\n",
        "from keras.models import Sequential\n",
        "from keras.layers import Dense, Dropout, Activation, Flatten, Add, BatchNormalization, ReLU\n",
        "from keras.layers import Convolution2D, MaxPooling2D\n",
        "from keras.utils import np_utils\n",
        "\n",
        "from keras.datasets import mnist\n",
        "\n",
        "# import keras objects for Convolution and import the dataset"
      ],
      "execution_count": 0,
      "outputs": []
    },
    {
      "cell_type": "markdown",
      "metadata": {
        "id": "zByEi95J86RD",
        "colab_type": "text"
      },
      "source": [
        "### Load pre-shuffled MNIST data into train and test sets"
      ]
    },
    {
      "cell_type": "code",
      "metadata": {
        "id": "7eRM0QWN83PV",
        "colab_type": "code",
        "outputId": "75af2bec-cde0-41f9-e8f9-7c8e51ac3174",
        "colab": {
          "base_uri": "https://localhost:8080/",
          "height": 51
        }
      },
      "source": [
        "(X_train, y_train), (X_test, y_test) = mnist.load_data()\n",
        "\n",
        "# load the datset into train and test sets"
      ],
      "execution_count": 3,
      "outputs": [
        {
          "output_type": "stream",
          "text": [
            "Downloading data from https://s3.amazonaws.com/img-datasets/mnist.npz\n",
            "11493376/11490434 [==============================] - 2s 0us/step\n"
          ],
          "name": "stdout"
        }
      ]
    },
    {
      "cell_type": "code",
      "metadata": {
        "id": "4a4Be72j8-ZC",
        "colab_type": "code",
        "outputId": "fe798f52-7f29-4118-e6f0-3a07e6204df5",
        "colab": {
          "base_uri": "https://localhost:8080/",
          "height": 303
        }
      },
      "source": [
        "print (X_train.shape)\n",
        "from matplotlib import pyplot as plt\n",
        "%matplotlib inline\n",
        "plt.imshow(X_train[0])\n",
        "\n",
        "# plotting a sample as image to get a visual feel"
      ],
      "execution_count": 4,
      "outputs": [
        {
          "output_type": "stream",
          "text": [
            "(60000, 28, 28)\n"
          ],
          "name": "stdout"
        },
        {
          "output_type": "execute_result",
          "data": {
            "text/plain": [
              "<matplotlib.image.AxesImage at 0x7ff426955f28>"
            ]
          },
          "metadata": {
            "tags": []
          },
          "execution_count": 4
        },
        {
          "output_type": "display_data",
          "data": {
            "image/png": "[encoded data removed]",
            "text/plain": [
              "<Figure size 432x288 with 1 Axes>"
            ]
          },
          "metadata": {
            "tags": []
          }
        }
      ]
    },
    {
      "cell_type": "code",
      "metadata": {
        "id": "dkmprriw9AnZ",
        "colab_type": "code",
        "colab": {}
      },
      "source": [
        "X_train = X_train.reshape(X_train.shape[0], 28, 28,1)\n",
        "X_test = X_test.reshape(X_test.shape[0], 28, 28,1)\n",
        "\n",
        "# reshaping the dataset to Convolution format, X_train.shape[0] --> # of images, (28, 28) --> input image resolution, 1 - # of channels(the image itself)."
      ],
      "execution_count": 0,
      "outputs": []
    },
    {
      "cell_type": "code",
      "metadata": {
        "id": "X2m4YS4E9CRh",
        "colab_type": "code",
        "colab": {}
      },
      "source": [
        "X_train = X_train.astype('float32')\n",
        "X_test = X_test.astype('float32')\n",
        "X_train /= 255\n",
        "X_test /= 255\n",
        "\n",
        "# converting the values into greyscale values."
      ],
      "execution_count": 0,
      "outputs": []
    },
    {
      "cell_type": "code",
      "metadata": {
        "id": "0Mn0vAYD9DvB",
        "colab_type": "code",
        "outputId": "353355a2-c5c1-43b3-c157-556565c054b8",
        "colab": {
          "base_uri": "https://localhost:8080/",
          "height": 34
        }
      },
      "source": [
        "y_train[:10]"
      ],
      "execution_count": 7,
      "outputs": [
        {
          "output_type": "execute_result",
          "data": {
            "text/plain": [
              "array([5, 0, 4, 1, 9, 2, 1, 3, 1, 4], dtype=uint8)"
            ]
          },
          "metadata": {
            "tags": []
          },
          "execution_count": 7
        }
      ]
    },
    {
      "cell_type": "code",
      "metadata": {
        "id": "dRuPQjQZY_0j",
        "colab_type": "code",
        "colab": {}
      },
      "source": [
        "uniques, ids = np.unique(y_train, return_inverse=True)"
      ],
      "execution_count": 0,
      "outputs": []
    },
    {
      "cell_type": "code",
      "metadata": {
        "id": "ZG8JiXR39FHC",
        "colab_type": "code",
        "colab": {}
      },
      "source": [
        "# Convert 1-dimensional class arrays to 10-dimensional class matrices\n",
        "Y_train = np_utils.to_categorical(y_train, 10)\n",
        "Y_test = np_utils.to_categorical(y_test, 10)"
      ],
      "execution_count": 0,
      "outputs": []
    },
    {
      "cell_type": "code",
      "metadata": {
        "id": "fYlFRvKS9HMB",
        "colab_type": "code",
        "outputId": "e15bc014-b0b9-4e1b-f2f4-6d6b604959b6",
        "colab": {
          "base_uri": "https://localhost:8080/",
          "height": 187
        }
      },
      "source": [
        "Y_train[:10]"
      ],
      "execution_count": 10,
      "outputs": [
        {
          "output_type": "execute_result",
          "data": {
            "text/plain": [
              "array([[0., 0., 0., 0., 0., 1., 0., 0., 0., 0.],\n",
              "       [1., 0., 0., 0., 0., 0., 0., 0., 0., 0.],\n",
              "       [0., 0., 0., 0., 1., 0., 0., 0., 0., 0.],\n",
              "       [0., 1., 0., 0., 0., 0., 0., 0., 0., 0.],\n",
              "       [0., 0., 0., 0., 0., 0., 0., 0., 0., 1.],\n",
              "       [0., 0., 1., 0., 0., 0., 0., 0., 0., 0.],\n",
              "       [0., 1., 0., 0., 0., 0., 0., 0., 0., 0.],\n",
              "       [0., 0., 0., 1., 0., 0., 0., 0., 0., 0.],\n",
              "       [0., 1., 0., 0., 0., 0., 0., 0., 0., 0.],\n",
              "       [0., 0., 0., 0., 1., 0., 0., 0., 0., 0.]], dtype=float32)"
            ]
          },
          "metadata": {
            "tags": []
          },
          "execution_count": 10
        }
      ]
    },
    {
      "cell_type": "markdown",
      "metadata": {
        "id": "MV-W5WqTnnWw",
        "colab_type": "text"
      },
      "source": [
        "Now we are going to optimize the network step by step to achieve max validation accuracy with less no. of parameters"
      ]
    },
    {
      "cell_type": "markdown",
      "metadata": {
        "id": "xmoo9SWeKSx0",
        "colab_type": "text"
      },
      "source": [
        "# Good Network"
      ]
    },
    {
      "cell_type": "code",
      "metadata": {
        "id": "ENMoxQVz9zN1",
        "colab_type": "code",
        "outputId": "91ac6199-426f-42c1-a1b5-33382172effb",
        "colab": {
          "base_uri": "https://localhost:8080/",
          "height": 1000
        }
      },
      "source": [
        "from keras.layers import Activation\n",
        "model = Sequential()\n",
        "\n",
        "\n",
        "model.add(Convolution2D(16, 3, 3, activation='relu', input_shape=(28,28,1))) #26\n",
        "model.add(BatchNormalization())\n",
        "model.add(Dropout(0.15))\n",
        "\n",
        "model.add(Convolution2D(16, 3, 3, activation='relu')) #24\n",
        "model.add(BatchNormalization())\n",
        "model.add(Dropout(0.15))\n",
        "\n",
        "model.add(Convolution2D(16, 3, 3, activation='relu')) # output 22\n",
        "model.add(BatchNormalization())\n",
        "model.add(Dropout(0.15))\n",
        "\n",
        "model.add(MaxPooling2D(pool_size=(2,2))) # output 11\n",
        "model.add(Convolution2D(11, 1, activation='relu')) # output 11\n",
        "\n",
        "model.add(Convolution2D(16, 3, 3, activation='relu')) # output 9\n",
        "model.add(BatchNormalization())\n",
        "model.add(Dropout(0.15))\n",
        "\n",
        "model.add(Convolution2D(16, 3, 3, activation='relu')) # output 7\n",
        "model.add(BatchNormalization())\n",
        "model.add(Dropout(0.15))\n",
        "\n",
        "\n",
        "model.add(Convolution2D(7, 1, activation='relu')) # output 7\n",
        "model.add(Convolution2D(10, 7))\n",
        "\n",
        "model.add(Flatten())\n",
        "model.add(Activation('softmax'))\n",
        "          \n",
        "model.summary()"
      ],
      "execution_count": 11,
      "outputs": [
        {
          "output_type": "stream",
          "text": [
            "WARNING:tensorflow:From /usr/local/lib/python3.6/dist-packages/keras/backend/tensorflow_backend.py:66: The name tf.get_default_graph is deprecated. Please use tf.compat.v1.get_default_graph instead.\n",
            "\n",
            "WARNING:tensorflow:From /usr/local/lib/python3.6/dist-packages/keras/backend/tensorflow_backend.py:541: The name tf.placeholder is deprecated. Please use tf.compat.v1.placeholder instead.\n",
            "\n",
            "WARNING:tensorflow:From /usr/local/lib/python3.6/dist-packages/keras/backend/tensorflow_backend.py:4432: The name tf.random_uniform is deprecated. Please use tf.random.uniform instead.\n",
            "\n",
            "WARNING:tensorflow:From /usr/local/lib/python3.6/dist-packages/keras/backend/tensorflow_backend.py:190: The name tf.get_default_session is deprecated. Please use tf.compat.v1.get_default_session instead.\n",
            "\n",
            "WARNING:tensorflow:From /usr/local/lib/python3.6/dist-packages/keras/backend/tensorflow_backend.py:197: The name tf.ConfigProto is deprecated. Please use tf.compat.v1.ConfigProto instead.\n",
            "\n"
          ],
          "name": "stdout"
        },
        {
          "output_type": "stream",
          "text": [
            "/usr/local/lib/python3.6/dist-packages/ipykernel_launcher.py:5: UserWarning: Update your `Conv2D` call to the Keras 2 API: `Conv2D(16, (3, 3), activation=\"relu\", input_shape=(28, 28, 1...)`\n",
            "  \"\"\"\n"
          ],
          "name": "stderr"
        },
        {
          "output_type": "stream",
          "text": [
            "WARNING:tensorflow:From /usr/local/lib/python3.6/dist-packages/keras/backend/tensorflow_backend.py:2041: The name tf.nn.fused_batch_norm is deprecated. Please use tf.compat.v1.nn.fused_batch_norm instead.\n",
            "\n",
            "WARNING:tensorflow:From /usr/local/lib/python3.6/dist-packages/keras/backend/tensorflow_backend.py:3733: calling dropout (from tensorflow.python.ops.nn_ops) with keep_prob is deprecated and will be removed in a future version.\n",
            "Instructions for updating:\n",
            "Please use `rate` instead of `keep_prob`. Rate should be set to `rate = 1 - keep_prob`.\n"
          ],
          "name": "stdout"
        },
        {
          "output_type": "stream",
          "text": [
            "/usr/local/lib/python3.6/dist-packages/ipykernel_launcher.py:9: UserWarning: Update your `Conv2D` call to the Keras 2 API: `Conv2D(16, (3, 3), activation=\"relu\")`\n",
            "  if __name__ == '__main__':\n",
            "/usr/local/lib/python3.6/dist-packages/ipykernel_launcher.py:13: UserWarning: Update your `Conv2D` call to the Keras 2 API: `Conv2D(16, (3, 3), activation=\"relu\")`\n",
            "  del sys.path[0]\n"
          ],
          "name": "stderr"
        },
        {
          "output_type": "stream",
          "text": [
            "WARNING:tensorflow:From /usr/local/lib/python3.6/dist-packages/keras/backend/tensorflow_backend.py:4267: The name tf.nn.max_pool is deprecated. Please use tf.nn.max_pool2d instead.\n",
            "\n"
          ],
          "name": "stdout"
        },
        {
          "output_type": "stream",
          "text": [
            "/usr/local/lib/python3.6/dist-packages/ipykernel_launcher.py:20: UserWarning: Update your `Conv2D` call to the Keras 2 API: `Conv2D(16, (3, 3), activation=\"relu\")`\n",
            "/usr/local/lib/python3.6/dist-packages/ipykernel_launcher.py:24: UserWarning: Update your `Conv2D` call to the Keras 2 API: `Conv2D(16, (3, 3), activation=\"relu\")`\n"
          ],
          "name": "stderr"
        },
        {
          "output_type": "stream",
          "text": [
            "Model: \"sequential_1\"\n",
            "_________________________________________________________________\n",
            "Layer (type)                 Output Shape              Param #   \n",
            "=================================================================\n",
            "conv2d_1 (Conv2D)            (None, 26, 26, 16)        160       \n",
            "_________________________________________________________________\n",
            "batch_normalization_1 (Batch (None, 26, 26, 16)        64        \n",
            "_________________________________________________________________\n",
            "dropout_1 (Dropout)          (None, 26, 26, 16)        0         \n",
            "_________________________________________________________________\n",
            "conv2d_2 (Conv2D)            (None, 24, 24, 16)        2320      \n",
            "_________________________________________________________________\n",
            "batch_normalization_2 (Batch (None, 24, 24, 16)        64        \n",
            "_________________________________________________________________\n",
            "dropout_2 (Dropout)          (None, 24, 24, 16)        0         \n",
            "_________________________________________________________________\n",
            "conv2d_3 (Conv2D)            (None, 22, 22, 16)        2320      \n",
            "_________________________________________________________________\n",
            "batch_normalization_3 (Batch (None, 22, 22, 16)        64        \n",
            "_________________________________________________________________\n",
            "dropout_3 (Dropout)          (None, 22, 22, 16)        0         \n",
            "_________________________________________________________________\n",
            "max_pooling2d_1 (MaxPooling2 (None, 11, 11, 16)        0         \n",
            "_________________________________________________________________\n",
            "conv2d_4 (Conv2D)            (None, 11, 11, 11)        187       \n",
            "_________________________________________________________________\n",
            "conv2d_5 (Conv2D)            (None, 9, 9, 16)          1600      \n",
            "_________________________________________________________________\n",
            "batch_normalization_4 (Batch (None, 9, 9, 16)          64        \n",
            "_________________________________________________________________\n",
            "dropout_4 (Dropout)          (None, 9, 9, 16)          0         \n",
            "_________________________________________________________________\n",
            "conv2d_6 (Conv2D)            (None, 7, 7, 16)          2320      \n",
            "_________________________________________________________________\n",
            "batch_normalization_5 (Batch (None, 7, 7, 16)          64        \n",
            "_________________________________________________________________\n",
            "dropout_5 (Dropout)          (None, 7, 7, 16)          0         \n",
            "_________________________________________________________________\n",
            "conv2d_7 (Conv2D)            (None, 7, 7, 7)           119       \n",
            "_________________________________________________________________\n",
            "conv2d_8 (Conv2D)            (None, 1, 1, 10)          3440      \n",
            "_________________________________________________________________\n",
            "flatten_1 (Flatten)          (None, 10)                0         \n",
            "_________________________________________________________________\n",
            "activation_1 (Activation)    (None, 10)                0         \n",
            "=================================================================\n",
            "Total params: 12,786\n",
            "Trainable params: 12,626\n",
            "Non-trainable params: 160\n",
            "_________________________________________________________________\n"
          ],
          "name": "stdout"
        }
      ]
    },
    {
      "cell_type": "code",
      "metadata": {
        "id": "ws9rGkfL9zQZ",
        "colab_type": "code",
        "outputId": "02bb2a70-ccf8-45aa-d75a-1f032c54e1a4",
        "colab": {
          "base_uri": "https://localhost:8080/",
          "height": 1000
        }
      },
      "source": [
        "from keras.optimizers import Adam\n",
        "from keras.callbacks import LearningRateScheduler\n",
        "def scheduler(epoch, lr):\n",
        "  return round(0.003 * 1/(1 + 0.319 * epoch), 10)\n",
        "\n",
        "model.compile(loss='categorical_crossentropy', optimizer=Adam(lr=0.003), metrics=['accuracy'])\n",
        "\n",
        "model.fit(X_train, Y_train, batch_size=128, epochs=20, verbose=1, validation_data=(X_test, Y_test), callbacks=[LearningRateScheduler(scheduler, verbose=1)])"
      ],
      "execution_count": 12,
      "outputs": [
        {
          "output_type": "stream",
          "text": [
            "WARNING:tensorflow:From /usr/local/lib/python3.6/dist-packages/keras/optimizers.py:793: The name tf.train.Optimizer is deprecated. Please use tf.compat.v1.train.Optimizer instead.\n",
            "\n",
            "WARNING:tensorflow:From /usr/local/lib/python3.6/dist-packages/tensorflow/python/ops/math_grad.py:1250: add_dispatch_support.<locals>.wrapper (from tensorflow.python.ops.array_ops) is deprecated and will be removed in a future version.\n",
            "Instructions for updating:\n",
            "Use tf.where in 2.0, which has the same broadcast rule as np.where\n",
            "Train on 60000 samples, validate on 10000 samples\n",
            "Epoch 1/20\n",
            "\n",
            "Epoch 00001: LearningRateScheduler setting learning rate to 0.003.\n",
            "60000/60000 [==============================] - 15s 248us/step - loss: 0.2039 - acc: 0.9354 - val_loss: 0.0523 - val_acc: 0.9829\n",
            "Epoch 2/20\n",
            "\n",
            "Epoch 00002: LearningRateScheduler setting learning rate to 0.0022744503.\n",
            "60000/60000 [==============================] - 11s 183us/step - loss: 0.0614 - acc: 0.9812 - val_loss: 0.0354 - val_acc: 0.9878\n",
            "Epoch 3/20\n",
            "\n",
            "Epoch 00003: LearningRateScheduler setting learning rate to 0.0018315018.\n",
            "60000/60000 [==============================] - 11s 185us/step - loss: 0.0460 - acc: 0.9856 - val_loss: 0.0403 - val_acc: 0.9858\n",
            "Epoch 4/20\n",
            "\n",
            "Epoch 00004: LearningRateScheduler setting learning rate to 0.0015329586.\n",
            "60000/60000 [==============================] - 11s 185us/step - loss: 0.0410 - acc: 0.9873 - val_loss: 0.0293 - val_acc: 0.9899\n",
            "Epoch 5/20\n",
            "\n",
            "Epoch 00005: LearningRateScheduler setting learning rate to 0.0013181019.\n",
            "60000/60000 [==============================] - 11s 183us/step - loss: 0.0377 - acc: 0.9884 - val_loss: 0.0291 - val_acc: 0.9900\n",
            "Epoch 6/20\n",
            "\n",
            "Epoch 00006: LearningRateScheduler setting learning rate to 0.0011560694.\n",
            "60000/60000 [==============================] - 11s 183us/step - loss: 0.0329 - acc: 0.9898 - val_loss: 0.0245 - val_acc: 0.9914\n",
            "Epoch 7/20\n",
            "\n",
            "Epoch 00007: LearningRateScheduler setting learning rate to 0.0010295127.\n",
            "60000/60000 [==============================] - 11s 183us/step - loss: 0.0314 - acc: 0.9904 - val_loss: 0.0225 - val_acc: 0.9923\n",
            "Epoch 8/20\n",
            "\n",
            "Epoch 00008: LearningRateScheduler setting learning rate to 0.0009279307.\n",
            "60000/60000 [==============================] - 11s 183us/step - loss: 0.0292 - acc: 0.9907 - val_loss: 0.0237 - val_acc: 0.9916\n",
            "Epoch 9/20\n",
            "\n",
            "Epoch 00009: LearningRateScheduler setting learning rate to 0.0008445946.\n",
            "60000/60000 [==============================] - 11s 183us/step - loss: 0.0269 - acc: 0.9914 - val_loss: 0.0253 - val_acc: 0.9921\n",
            "Epoch 10/20\n",
            "\n",
            "Epoch 00010: LearningRateScheduler setting learning rate to 0.0007749935.\n",
            "60000/60000 [==============================] - 11s 184us/step - loss: 0.0252 - acc: 0.9919 - val_loss: 0.0229 - val_acc: 0.9929\n",
            "Epoch 11/20\n",
            "\n",
            "Epoch 00011: LearningRateScheduler setting learning rate to 0.0007159905.\n",
            "60000/60000 [==============================] - 11s 183us/step - loss: 0.0243 - acc: 0.9920 - val_loss: 0.0270 - val_acc: 0.9913\n",
            "Epoch 12/20\n",
            "\n",
            "Epoch 00012: LearningRateScheduler setting learning rate to 0.000665336.\n",
            "60000/60000 [==============================] - 11s 184us/step - loss: 0.0236 - acc: 0.9926 - val_loss: 0.0224 - val_acc: 0.9928\n",
            "Epoch 13/20\n",
            "\n",
            "Epoch 00013: LearningRateScheduler setting learning rate to 0.0006213753.\n",
            "60000/60000 [==============================] - 11s 184us/step - loss: 0.0221 - acc: 0.9932 - val_loss: 0.0249 - val_acc: 0.9920\n",
            "Epoch 14/20\n",
            "\n",
            "Epoch 00014: LearningRateScheduler setting learning rate to 0.0005828638.\n",
            "60000/60000 [==============================] - 11s 183us/step - loss: 0.0221 - acc: 0.9928 - val_loss: 0.0225 - val_acc: 0.9930\n",
            "Epoch 15/20\n",
            "\n",
            "Epoch 00015: LearningRateScheduler setting learning rate to 0.0005488474.\n",
            "60000/60000 [==============================] - 11s 183us/step - loss: 0.0209 - acc: 0.9935 - val_loss: 0.0259 - val_acc: 0.9914\n",
            "Epoch 16/20\n",
            "\n",
            "Epoch 00016: LearningRateScheduler setting learning rate to 0.0005185825.\n",
            "60000/60000 [==============================] - 11s 183us/step - loss: 0.0198 - acc: 0.9937 - val_loss: 0.0219 - val_acc: 0.9931\n",
            "Epoch 17/20\n",
            "\n",
            "Epoch 00017: LearningRateScheduler setting learning rate to 0.000491481.\n",
            "60000/60000 [==============================] - 11s 183us/step - loss: 0.0195 - acc: 0.9936 - val_loss: 0.0218 - val_acc: 0.9930\n",
            "Epoch 18/20\n",
            "\n",
            "Epoch 00018: LearningRateScheduler setting learning rate to 0.0004670715.\n",
            "60000/60000 [==============================] - 11s 184us/step - loss: 0.0189 - acc: 0.9939 - val_loss: 0.0225 - val_acc: 0.9924\n",
            "Epoch 19/20\n",
            "\n",
            "Epoch 00019: LearningRateScheduler setting learning rate to 0.0004449718.\n",
            "60000/60000 [==============================] - 11s 183us/step - loss: 0.0188 - acc: 0.9942 - val_loss: 0.0241 - val_acc: 0.9920\n",
            "Epoch 20/20\n",
            "\n",
            "Epoch 00020: LearningRateScheduler setting learning rate to 0.000424869.\n",
            "60000/60000 [==============================] - 11s 183us/step - loss: 0.0176 - acc: 0.9945 - val_loss: 0.0203 - val_acc: 0.9932\n"
          ],
          "name": "stdout"
        },
        {
          "output_type": "execute_result",
          "data": {
            "text/plain": [
              "<keras.callbacks.History at 0x7ff42692c6d8>"
            ]
          },
          "metadata": {
            "tags": []
          },
          "execution_count": 12
        }
      ]
    },
    {
      "cell_type": "code",
      "metadata": {
        "id": "5jwAQBvp9zTu",
        "colab_type": "code",
        "colab": {}
      },
      "source": [
        "score = model.evaluate(X_test, Y_test, verbose=0)\n",
        "\n",
        "# validation score on test data"
      ],
      "execution_count": 0,
      "outputs": []
    },
    {
      "cell_type": "code",
      "metadata": {
        "id": "mkX8JMv79q9r",
        "colab_type": "code",
        "outputId": "6a354808-d17d-4410-92b8-b8b1660df8e2",
        "colab": {
          "base_uri": "https://localhost:8080/",
          "height": 34
        }
      },
      "source": [
        "print(score)"
      ],
      "execution_count": 14,
      "outputs": [
        {
          "output_type": "stream",
          "text": [
            "[0.020296607694547858, 0.9932]\n"
          ],
          "name": "stdout"
        }
      ]
    },
    {
      "cell_type": "markdown",
      "metadata": {
        "id": "sHuCNmUPMNL3",
        "colab_type": "text"
      },
      "source": [
        "## Inference\n",
        "Now we are able to achieve the validation accuracy of 99.3% at the 17th epoch, this model is able perform very good in-terms of validation accuracy and has only around ~12k paramters"
      ]
    },
    {
      "cell_type": "markdown",
      "metadata": {
        "id": "JroLhqz24RaN",
        "colab_type": "text"
      },
      "source": [
        "## Implementing Image Normalization"
      ]
    },
    {
      "cell_type": "code",
      "metadata": {
        "id": "XMh-1B2HzJJD",
        "colab_type": "code",
        "colab": {}
      },
      "source": [
        "from keras.preprocessing.image import ImageDataGenerator"
      ],
      "execution_count": 0,
      "outputs": []
    },
    {
      "cell_type": "code",
      "metadata": {
        "id": "Av74R9N88kTx",
        "colab_type": "code",
        "colab": {}
      },
      "source": [
        "datagen = ImageDataGenerator(featurewise_center=True, featurewise_std_normalization=True)\n",
        "datagen.fit(X_train)"
      ],
      "execution_count": 0,
      "outputs": []
    },
    {
      "cell_type": "code",
      "metadata": {
        "id": "1G3hpdvS-W9v",
        "colab_type": "code",
        "outputId": "7b5c8af9-d911-4b23-9a7e-da6422fdc14e",
        "colab": {
          "base_uri": "https://localhost:8080/",
          "height": 1000
        }
      },
      "source": [
        "from keras.layers import Activation\n",
        "model = Sequential()\n",
        "\n",
        "\n",
        "model.add(Convolution2D(16, 3, 3, activation='relu', input_shape=(28,28,1))) #26\n",
        "model.add(BatchNormalization())\n",
        "model.add(Dropout(0.1))\n",
        "\n",
        "model.add(Convolution2D(16, 3, 3, activation=None)) #24\n",
        "model.add(BatchNormalization())\n",
        "model.add(ReLU())\n",
        "model.add(Dropout(0.1))\n",
        "\n",
        "model.add(Convolution2D(16, 3, 3, activation=None)) # output 22\n",
        "model.add(BatchNormalization())\n",
        "model.add(ReLU())\n",
        "model.add(Dropout(0.1))\n",
        "\n",
        "model.add(MaxPooling2D(pool_size=(2,2))) # output 11\n",
        "model.add(Convolution2D(11, 1)) # output 11\n",
        "model.add(ReLU())\n",
        "model.add(BatchNormalization())\n",
        "\n",
        "model.add(Convolution2D(16, 3, 3, activation=None)) # output 9\n",
        "model.add(BatchNormalization())\n",
        "model.add(ReLU())\n",
        "model.add(Dropout(0.1))\n",
        "\n",
        "model.add(Convolution2D(16, 3, 3, activation=None)) # output 7\n",
        "model.add(BatchNormalization())\n",
        "model.add(ReLU())\n",
        "model.add(Dropout(0.1))\n",
        "\n",
        "\n",
        "model.add(Convolution2D(7, 1, activation=None)) # output 7\n",
        "model.add(BatchNormalization())\n",
        "model.add(ReLU())\n",
        "model.add(Convolution2D(10, 7))\n",
        "\n",
        "model.add(Flatten())\n",
        "model.add(Activation('softmax'))\n",
        "          \n",
        "model.summary()"
      ],
      "execution_count": 20,
      "outputs": [
        {
          "output_type": "stream",
          "text": [
            "/usr/local/lib/python3.6/dist-packages/ipykernel_launcher.py:5: UserWarning: Update your `Conv2D` call to the Keras 2 API: `Conv2D(16, (3, 3), activation=\"relu\", input_shape=(28, 28, 1...)`\n",
            "  \"\"\"\n",
            "/usr/local/lib/python3.6/dist-packages/ipykernel_launcher.py:9: UserWarning: Update your `Conv2D` call to the Keras 2 API: `Conv2D(16, (3, 3), activation=None)`\n",
            "  if __name__ == '__main__':\n",
            "/usr/local/lib/python3.6/dist-packages/ipykernel_launcher.py:14: UserWarning: Update your `Conv2D` call to the Keras 2 API: `Conv2D(16, (3, 3), activation=None)`\n",
            "  \n",
            "/usr/local/lib/python3.6/dist-packages/ipykernel_launcher.py:24: UserWarning: Update your `Conv2D` call to the Keras 2 API: `Conv2D(16, (3, 3), activation=None)`\n",
            "/usr/local/lib/python3.6/dist-packages/ipykernel_launcher.py:29: UserWarning: Update your `Conv2D` call to the Keras 2 API: `Conv2D(16, (3, 3), activation=None)`\n"
          ],
          "name": "stderr"
        },
        {
          "output_type": "stream",
          "text": [
            "Model: \"sequential_4\"\n",
            "_________________________________________________________________\n",
            "Layer (type)                 Output Shape              Param #   \n",
            "=================================================================\n",
            "conv2d_13 (Conv2D)           (None, 26, 26, 16)        160       \n",
            "_________________________________________________________________\n",
            "batch_normalization_10 (Batc (None, 26, 26, 16)        64        \n",
            "_________________________________________________________________\n",
            "dropout_8 (Dropout)          (None, 26, 26, 16)        0         \n",
            "_________________________________________________________________\n",
            "conv2d_14 (Conv2D)           (None, 24, 24, 16)        2320      \n",
            "_________________________________________________________________\n",
            "batch_normalization_11 (Batc (None, 24, 24, 16)        64        \n",
            "_________________________________________________________________\n",
            "re_lu_1 (ReLU)               (None, 24, 24, 16)        0         \n",
            "_________________________________________________________________\n",
            "dropout_9 (Dropout)          (None, 24, 24, 16)        0         \n",
            "_________________________________________________________________\n",
            "conv2d_15 (Conv2D)           (None, 22, 22, 16)        2320      \n",
            "_________________________________________________________________\n",
            "batch_normalization_12 (Batc (None, 22, 22, 16)        64        \n",
            "_________________________________________________________________\n",
            "re_lu_2 (ReLU)               (None, 22, 22, 16)        0         \n",
            "_________________________________________________________________\n",
            "dropout_10 (Dropout)         (None, 22, 22, 16)        0         \n",
            "_________________________________________________________________\n",
            "max_pooling2d_2 (MaxPooling2 (None, 11, 11, 16)        0         \n",
            "_________________________________________________________________\n",
            "conv2d_16 (Conv2D)           (None, 11, 11, 11)        187       \n",
            "_________________________________________________________________\n",
            "re_lu_3 (ReLU)               (None, 11, 11, 11)        0         \n",
            "_________________________________________________________________\n",
            "batch_normalization_13 (Batc (None, 11, 11, 11)        44        \n",
            "_________________________________________________________________\n",
            "conv2d_17 (Conv2D)           (None, 9, 9, 16)          1600      \n",
            "_________________________________________________________________\n",
            "batch_normalization_14 (Batc (None, 9, 9, 16)          64        \n",
            "_________________________________________________________________\n",
            "re_lu_4 (ReLU)               (None, 9, 9, 16)          0         \n",
            "_________________________________________________________________\n",
            "dropout_11 (Dropout)         (None, 9, 9, 16)          0         \n",
            "_________________________________________________________________\n",
            "conv2d_18 (Conv2D)           (None, 7, 7, 16)          2320      \n",
            "_________________________________________________________________\n",
            "batch_normalization_15 (Batc (None, 7, 7, 16)          64        \n",
            "_________________________________________________________________\n",
            "re_lu_5 (ReLU)               (None, 7, 7, 16)          0         \n",
            "_________________________________________________________________\n",
            "dropout_12 (Dropout)         (None, 7, 7, 16)          0         \n",
            "_________________________________________________________________\n",
            "conv2d_19 (Conv2D)           (None, 7, 7, 7)           119       \n",
            "_________________________________________________________________\n",
            "batch_normalization_16 (Batc (None, 7, 7, 7)           28        \n",
            "_________________________________________________________________\n",
            "re_lu_6 (ReLU)               (None, 7, 7, 7)           0         \n",
            "_________________________________________________________________\n",
            "conv2d_20 (Conv2D)           (None, 1, 1, 10)          3440      \n",
            "_________________________________________________________________\n",
            "flatten_2 (Flatten)          (None, 10)                0         \n",
            "_________________________________________________________________\n",
            "activation_2 (Activation)    (None, 10)                0         \n",
            "=================================================================\n",
            "Total params: 12,858\n",
            "Trainable params: 12,662\n",
            "Non-trainable params: 196\n",
            "_________________________________________________________________\n"
          ],
          "name": "stdout"
        }
      ]
    },
    {
      "cell_type": "markdown",
      "metadata": {
        "id": "viyJbnDgBkVV",
        "colab_type": "text"
      },
      "source": [
        "# Adding Weight Decay to total loss"
      ]
    },
    {
      "cell_type": "code",
      "metadata": {
        "id": "YlwtQ8uD-XqV",
        "colab_type": "code",
        "colab": {}
      },
      "source": [
        "import keras.backend as K\n",
        "\n",
        "def loss_with_reg(model, batch_size, _lambda = 0.001):\n",
        "  reg_loss_sqr = 0\n",
        "  for layer in model.layers:\n",
        "    if len(layer.get_weights()) > 0:\n",
        "      reg_loss_sqr += np.sum(layer.get_weights()[0]**2)\n",
        "  reg_loss_sqr = reg_loss_sqr * (_lambda/2*batch_size)\n",
        "  \n",
        "  def temp(y_true, y_pred):\n",
        "    return K.categorical_crossentropy(y_true, y_pred) + reg_loss_sqr\n",
        "  return temp"
      ],
      "execution_count": 0,
      "outputs": []
    },
    {
      "cell_type": "code",
      "metadata": {
        "id": "1so3gK9a-Xts",
        "colab_type": "code",
        "colab": {}
      },
      "source": [
        "batch_size = 64"
      ],
      "execution_count": 0,
      "outputs": []
    },
    {
      "cell_type": "code",
      "metadata": {
        "id": "AAin7cqdEXua",
        "colab_type": "code",
        "colab": {}
      },
      "source": [
        "from keras.optimizers import SGD\n",
        "from keras.callbacks import LearningRateScheduler\n",
        "def scheduler(epoch, lr):\n",
        "  return round(0.003 * 1/(1 + 0.319 * epoch), 10)\n",
        "\n",
        "model.compile(loss=loss_with_reg(model=model, batch_size=64), optimizer=SGD(lr=0.003), metrics=['accuracy'])"
      ],
      "execution_count": 0,
      "outputs": []
    },
    {
      "cell_type": "code",
      "metadata": {
        "id": "7lYNQ0jb-XBH",
        "colab_type": "code",
        "outputId": "8a617c83-3550-47cd-c8ff-9f153c402a06",
        "colab": {
          "base_uri": "https://localhost:8080/",
          "height": 1000
        }
      },
      "source": [
        "model.fit_generator(datagen.flow(X_train, Y_train, batch_size=batch_size), steps_per_epoch=len(X_train) / batch_size,\\\n",
        "                            validation_data = datagen.flow(X_test, Y_test, batch_size=len(X_train)), validation_steps = 1 ,epochs=40, \\\n",
        "                            verbose = 1, workers=20)"
      ],
      "execution_count": 34,
      "outputs": [
        {
          "output_type": "stream",
          "text": [
            "Epoch 1/40\n",
            "938/937 [==============================] - 21s 23ms/step - loss: 6.7373 - acc: 0.9714 - val_loss: 6.7198 - val_acc: 0.9771\n",
            "Epoch 2/40\n",
            "938/937 [==============================] - 18s 19ms/step - loss: 6.7335 - acc: 0.9718 - val_loss: 6.7150 - val_acc: 0.9781\n",
            "Epoch 3/40\n",
            "938/937 [==============================] - 18s 19ms/step - loss: 6.7308 - acc: 0.9732 - val_loss: 6.7105 - val_acc: 0.9795\n",
            "Epoch 4/40\n",
            "938/937 [==============================] - 18s 19ms/step - loss: 6.7273 - acc: 0.9738 - val_loss: 6.7082 - val_acc: 0.9804\n",
            "Epoch 5/40\n",
            "938/937 [==============================] - 17s 18ms/step - loss: 6.7245 - acc: 0.9743 - val_loss: 6.7074 - val_acc: 0.9803\n",
            "Epoch 6/40\n",
            "938/937 [==============================] - 17s 18ms/step - loss: 6.7220 - acc: 0.9755 - val_loss: 6.7034 - val_acc: 0.9813\n",
            "Epoch 7/40\n",
            "938/937 [==============================] - 17s 18ms/step - loss: 6.7195 - acc: 0.9758 - val_loss: 6.7041 - val_acc: 0.9811\n",
            "Epoch 8/40\n",
            "938/937 [==============================] - 17s 18ms/step - loss: 6.7180 - acc: 0.9768 - val_loss: 6.7006 - val_acc: 0.9822\n",
            "Epoch 9/40\n",
            "938/937 [==============================] - 18s 19ms/step - loss: 6.7173 - acc: 0.9767 - val_loss: 6.6985 - val_acc: 0.9827\n",
            "Epoch 10/40\n",
            "938/937 [==============================] - 17s 18ms/step - loss: 6.7133 - acc: 0.9781 - val_loss: 6.6965 - val_acc: 0.9829\n",
            "Epoch 11/40\n",
            "938/937 [==============================] - 17s 18ms/step - loss: 6.7123 - acc: 0.9782 - val_loss: 6.6960 - val_acc: 0.9834\n",
            "Epoch 12/40\n",
            "938/937 [==============================] - 17s 18ms/step - loss: 6.7106 - acc: 0.9789 - val_loss: 6.6934 - val_acc: 0.9840\n",
            "Epoch 13/40\n",
            "938/937 [==============================] - 17s 18ms/step - loss: 6.7098 - acc: 0.9787 - val_loss: 6.6929 - val_acc: 0.9842\n",
            "Epoch 14/40\n",
            "938/937 [==============================] - 17s 18ms/step - loss: 6.7077 - acc: 0.9796 - val_loss: 6.6933 - val_acc: 0.9837\n",
            "Epoch 15/40\n",
            "938/937 [==============================] - 17s 18ms/step - loss: 6.7066 - acc: 0.9798 - val_loss: 6.6911 - val_acc: 0.9845\n",
            "Epoch 16/40\n",
            "938/937 [==============================] - 17s 18ms/step - loss: 6.7052 - acc: 0.9804 - val_loss: 6.6912 - val_acc: 0.9846\n",
            "Epoch 17/40\n",
            "938/937 [==============================] - 17s 18ms/step - loss: 6.7053 - acc: 0.9806 - val_loss: 6.6904 - val_acc: 0.9844\n",
            "Epoch 18/40\n",
            "938/937 [==============================] - 17s 18ms/step - loss: 6.7022 - acc: 0.9810 - val_loss: 6.6896 - val_acc: 0.9851\n",
            "Epoch 19/40\n",
            "938/937 [==============================] - 17s 18ms/step - loss: 6.7018 - acc: 0.9814 - val_loss: 6.6883 - val_acc: 0.9853\n",
            "Epoch 20/40\n",
            "938/937 [==============================] - 17s 19ms/step - loss: 6.7005 - acc: 0.9816 - val_loss: 6.6860 - val_acc: 0.9858\n",
            "Epoch 21/40\n",
            "938/937 [==============================] - 17s 18ms/step - loss: 6.7018 - acc: 0.9810 - val_loss: 6.6866 - val_acc: 0.9856\n",
            "Epoch 22/40\n",
            "938/937 [==============================] - 17s 18ms/step - loss: 6.6984 - acc: 0.9826 - val_loss: 6.6857 - val_acc: 0.9863\n",
            "Epoch 23/40\n",
            "938/937 [==============================] - 18s 19ms/step - loss: 6.6993 - acc: 0.9818 - val_loss: 6.6858 - val_acc: 0.9859\n",
            "Epoch 24/40\n",
            "938/937 [==============================] - 17s 18ms/step - loss: 6.6974 - acc: 0.9826 - val_loss: 6.6835 - val_acc: 0.9864\n",
            "Epoch 25/40\n",
            "938/937 [==============================] - 17s 18ms/step - loss: 6.6958 - acc: 0.9832 - val_loss: 6.6835 - val_acc: 0.9870\n",
            "Epoch 26/40\n",
            "938/937 [==============================] - 17s 19ms/step - loss: 6.6960 - acc: 0.9826 - val_loss: 6.6836 - val_acc: 0.9863\n",
            "Epoch 27/40\n",
            "938/937 [==============================] - 17s 18ms/step - loss: 6.6939 - acc: 0.9838 - val_loss: 6.6824 - val_acc: 0.9867\n",
            "Epoch 28/40\n",
            "938/937 [==============================] - 17s 18ms/step - loss: 6.6945 - acc: 0.9833 - val_loss: 6.6821 - val_acc: 0.9863\n",
            "Epoch 29/40\n",
            "938/937 [==============================] - 17s 19ms/step - loss: 6.6941 - acc: 0.9836 - val_loss: 6.6823 - val_acc: 0.9868\n",
            "Epoch 30/40\n",
            "938/937 [==============================] - 17s 18ms/step - loss: 6.6936 - acc: 0.9833 - val_loss: 6.6810 - val_acc: 0.9879\n",
            "Epoch 31/40\n",
            "938/937 [==============================] - 17s 18ms/step - loss: 6.6924 - acc: 0.9842 - val_loss: 6.6802 - val_acc: 0.9881\n",
            "Epoch 32/40\n",
            "938/937 [==============================] - 17s 18ms/step - loss: 6.6927 - acc: 0.9842 - val_loss: 6.6800 - val_acc: 0.9880\n",
            "Epoch 33/40\n",
            "938/937 [==============================] - 16s 18ms/step - loss: 6.6921 - acc: 0.9838 - val_loss: 6.6790 - val_acc: 0.9883\n",
            "Epoch 34/40\n",
            "938/937 [==============================] - 17s 18ms/step - loss: 6.6902 - acc: 0.9844 - val_loss: 6.6795 - val_acc: 0.9880\n",
            "Epoch 35/40\n",
            "938/937 [==============================] - 17s 18ms/step - loss: 6.6897 - acc: 0.9847 - val_loss: 6.6785 - val_acc: 0.9887\n",
            "Epoch 36/40\n",
            "938/937 [==============================] - 17s 18ms/step - loss: 6.6900 - acc: 0.9850 - val_loss: 6.6771 - val_acc: 0.9885\n",
            "Epoch 37/40\n",
            "938/937 [==============================] - 17s 18ms/step - loss: 6.6905 - acc: 0.9848 - val_loss: 6.6773 - val_acc: 0.9890\n",
            "Epoch 38/40\n",
            "938/937 [==============================] - 17s 18ms/step - loss: 6.6892 - acc: 0.9851 - val_loss: 6.6767 - val_acc: 0.9887\n",
            "Epoch 39/40\n",
            "938/937 [==============================] - 17s 18ms/step - loss: 6.6888 - acc: 0.9849 - val_loss: 6.6770 - val_acc: 0.9888\n",
            "Epoch 40/40\n",
            "938/937 [==============================] - 18s 19ms/step - loss: 6.6883 - acc: 0.9855 - val_loss: 6.6762 - val_acc: 0.9889\n"
          ],
          "name": "stdout"
        },
        {
          "output_type": "execute_result",
          "data": {
            "text/plain": [
              "<keras.callbacks.History at 0x7ff3bdc08160>"
            ]
          },
          "metadata": {
            "tags": []
          },
          "execution_count": 34
        }
      ]
    },
    {
      "cell_type": "code",
      "metadata": {
        "id": "OCWoJkwE9suh",
        "colab_type": "code",
        "colab": {
          "base_uri": "https://localhost:8080/",
          "height": 34
        },
        "outputId": "0cd4b3cb-1fa9-482c-9d02-28dae8ec88fa"
      },
      "source": [
        "score = model.evaluate_generator(datagen.flow(X_test, Y_test, batch_size=len(X_test)), steps = 1)\n",
        "print(score)"
      ],
      "execution_count": 35,
      "outputs": [
        {
          "output_type": "stream",
          "text": [
            "[6.676225185394287, 0.9889000058174133]\n"
          ],
          "name": "stdout"
        }
      ]
    },
    {
      "cell_type": "code",
      "metadata": {
        "id": "FYos7eXC9Lwo",
        "colab_type": "code",
        "colab": {}
      },
      "source": [
        "y_pred = model.predict_generator(datagen.flow(X_test, batch_size=len(X_test), shuffle = False),steps = 1)\n",
        "y_pred = np.argmax(y_pred, axis=1)"
      ],
      "execution_count": 0,
      "outputs": []
    },
    {
      "cell_type": "markdown",
      "metadata": {
        "id": "ckGCGDd2GWQX",
        "colab_type": "text"
      },
      "source": [
        "## Missclassified Images"
      ]
    },
    {
      "cell_type": "code",
      "metadata": {
        "id": "PrUkoEXG9L43",
        "colab_type": "code",
        "colab": {}
      },
      "source": [
        "misclassified_index = [ind for ind,(i,j) in enumerate(zip(y_pred,y_test)) if i != j]"
      ],
      "execution_count": 0,
      "outputs": []
    },
    {
      "cell_type": "code",
      "metadata": {
        "id": "-ZC_qMHkFnSP",
        "colab_type": "code",
        "colab": {
          "base_uri": "https://localhost:8080/",
          "height": 34
        },
        "outputId": "7da95e92-196b-4337-8726-94b4afa8aad5"
      },
      "source": [
        "len(misclassified_index)"
      ],
      "execution_count": 50,
      "outputs": [
        {
          "output_type": "execute_result",
          "data": {
            "text/plain": [
              "111"
            ]
          },
          "metadata": {
            "tags": []
          },
          "execution_count": 50
        }
      ]
    },
    {
      "cell_type": "code",
      "metadata": {
        "id": "rncWUqmjYWek",
        "colab_type": "code",
        "colab": {
          "base_uri": "https://localhost:8080/",
          "height": 960
        },
        "outputId": "a427d364-9984-44be-97b4-c0b11287f1b1"
      },
      "source": [
        "w=10\n",
        "h=10\n",
        "fig=plt.figure(figsize=(9, 9))\n",
        "columns = 5\n",
        "rows = 5\n",
        "\n",
        "for i,ind in enumerate(misclassified_index[:25]):\n",
        "  fig.add_subplot(5,5, i+1)\n",
        "  plt.imshow(X_test[ind].reshape(28,28))  \n",
        "  plt.title('original {} -> predicted as {}'.format(y_test[ind],y_pred[ind]))\n",
        "\n",
        "plt.subplots_adjust(left=2, bottom=2, right=3.3, top=3.4, wspace=None, hspace=None)\n",
        "\n",
        "plt.show()"
      ],
      "execution_count": 52,
      "outputs": [
        {
          "output_type": "display_data",
          "data": {
            "image/png": "[encoded data removed]",
            "text/plain": [
              "<Figure size 648x648 with 25 Axes>"
            ]
          },
          "metadata": {
            "tags": []
          }
        }
      ]
    },
    {
      "cell_type": "code",
      "metadata": {
        "id": "tIZTpYXdZQcn",
        "colab_type": "code",
        "colab": {}
      },
      "source": [
        "def deprocess_image(x):\n",
        "    # normalize tensor: center on 0., ensure std is 0.1\n",
        "    x -= x.mean()\n",
        "    x /= (x.std() + 1e-5)\n",
        "    x *= 0.1\n",
        "\n",
        "    # clip to [0, 1]\n",
        "    x += 0.5\n",
        "    x = np.clip(x, 0, 1)\n",
        "\n",
        "    # convert to RGB array\n",
        "    x *= 255\n",
        "    #x = x.transpose((1, 2, 0))\n",
        "    x = np.clip(x, 0, 255).astype('uint8')\n",
        "    return x\n",
        "  \n",
        "def vis_img_in_filter(img = np.array(X_train[2]).reshape((1, 28, 28, 1)).astype(np.float64), \n",
        "                      layer_name = 'conv2d_227', model = None):\n",
        "    layer_output = layer_dict[layer_name].output\n",
        "    img_ascs = list()\n",
        "    for filter_index in range(layer_output.shape[3]):\n",
        "        # build a loss function that maximizes the activation\n",
        "        # of the nth filter of the layer considered\n",
        "        loss = K.mean(layer_output[:, :, :, filter_index])\n",
        "\n",
        "        # compute the gradient of the input picture wrt this loss\n",
        "        grads = K.gradients(loss, model.input)[0]\n",
        "\n",
        "        # normalization trick: we normalize the gradient\n",
        "        grads /= (K.sqrt(K.mean(K.square(grads))) + 1e-5)\n",
        "\n",
        "        # this function returns the loss and grads given the input picture\n",
        "        iterate = K.function([model.input], [loss, grads])\n",
        "\n",
        "        # step size for gradient ascent\n",
        "        step = 5.\n",
        "\n",
        "        img_asc = np.array(img)\n",
        "        # run gradient ascent for 20 steps\n",
        "        for i in range(20):\n",
        "            loss_value, grads_value = iterate([img_asc])\n",
        "            img_asc += grads_value * step\n",
        "\n",
        "        img_asc = img_asc[0]\n",
        "        img_ascs.append(deprocess_image(img_asc).reshape((28, 28)))\n",
        "        \n",
        "    if layer_output.shape[3] >= 35:\n",
        "        plot_x, plot_y = 6, 6\n",
        "    elif layer_output.shape[3] >= 23:\n",
        "        plot_x, plot_y = 4, 6\n",
        "    elif layer_output.shape[3] >= 11:\n",
        "        plot_x, plot_y = 2, 6\n",
        "    else:\n",
        "        plot_x, plot_y = 1, 2\n",
        "    fig, ax = plt.subplots(plot_x, plot_y, figsize = (12, 12))\n",
        "    ax[0, 0].imshow(img.reshape((28, 28)), cmap = 'gray')\n",
        "    ax[0, 0].set_title('Input image')\n",
        "    fig.suptitle('Input image and %s filters' % (layer_name,))\n",
        "    fig.tight_layout(pad = 0.3, rect = [0, 0, 0.9, 0.9])\n",
        "    for (x, y) in [(i, j) for i in range(plot_x) for j in range(plot_y)]:\n",
        "        if x == 0 and y == 0:\n",
        "            continue\n",
        "        ax[x, y].imshow(img_ascs[x * plot_y + y - 1], cmap = 'gray')\n",
        "        ax[x, y].set_title('filter %d' % (x * plot_y + y - 1))\n"
      ],
      "execution_count": 0,
      "outputs": []
    },
    {
      "cell_type": "code",
      "metadata": {
        "id": "_HA3A09_GnYv",
        "colab_type": "code",
        "colab": {}
      },
      "source": [
        "layer_dict = dict([(layer.name, layer) for layer in model.layers])"
      ],
      "execution_count": 0,
      "outputs": []
    },
    {
      "cell_type": "code",
      "metadata": {
        "id": "DEF-sc86Grdw",
        "colab_type": "code",
        "colab": {
          "base_uri": "https://localhost:8080/",
          "height": 741
        },
        "outputId": "80fb1132-aa3c-4d91-9a58-70765ca3d46d"
      },
      "source": [
        "vis_img_in_filter(layer_name = model.layers[0].name, model = model)"
      ],
      "execution_count": 58,
      "outputs": [
        {
          "output_type": "display_data",
          "data": {
            "image/png": "[encoded data removed]",
            "text/plain": [
              "<Figure size 864x864 with 12 Axes>"
            ]
          },
          "metadata": {
            "tags": []
          }
        }
      ]
    },
    {
      "cell_type": "code",
      "metadata": {
        "id": "lcObVyz6Guza",
        "colab_type": "code",
        "colab": {}
      },
      "source": [
        ""
      ],
      "execution_count": 0,
      "outputs": []
    }
  ]
}